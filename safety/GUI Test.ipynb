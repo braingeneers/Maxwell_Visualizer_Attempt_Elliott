{
 "cells": [
  {
   "cell_type": "markdown",
   "id": "44cee88b",
   "metadata": {},
   "source": [
    "<font color=\"fuchsia\" size=7>Electrode GUI"
   ]
  },
  {
   "cell_type": "markdown",
   "id": "ced43c00",
   "metadata": {},
   "source": [
    "We are trying to build a GUI to control electrodes on the maxwell device. This app should display a 2D grid of electrodes that the use can click to select electrodes. The GUI should be built using HTML canvas, selection should occure in javascript, and all select electrodes should appear in a python list. Additionally, a zoom in/out feature should be built."
   ]
  },
  {
   "cell_type": "markdown",
   "id": "2a1b64f4",
   "metadata": {},
   "source": [
    "**References**\n",
    "* [Javascript -> Python](https://stackoverflow.com/questions/37172978/how-to-pass-variables-from-javascript-to-python-in-jupyter)\n",
    "* [HTML Canvas Tutorial](https://www.w3schools.com/html/html5_canvas.asp)\n",
    "* [Canvas Mouse Clicks](https://stackoverflow.com/questions/24384368/simple-button-in-html5-canvas/24384882)"
   ]
  },
  {
   "cell_type": "markdown",
   "id": "68ea353f",
   "metadata": {},
   "source": [
    "<font color=\"red\">\n",
    "\n",
    "**To Do**\n",
    "* Have rectangle change color on button click\n",
    "* Make width/height of canvas dynamic\n",
    "* Add electrode to python array depending on location of click"
   ]
  },
  {
   "cell_type": "markdown",
   "id": "bf0dda9c",
   "metadata": {},
   "source": [
    "# <font color=\"brown\">HTML Canvas"
   ]
  },
  {
   "cell_type": "markdown",
   "id": "c4b473ce",
   "metadata": {},
   "source": [
    "Solution taken [from here](https://www.w3schools.com/html/html5_canvas.asp)"
   ]
  },
  {
   "cell_type": "markdown",
   "id": "3292c2d6",
   "metadata": {},
   "source": [
    "<font color=\"orange\">**Note:** Currently the canvas has a fixed width. In the final product, I want the width to be dynamic."
   ]
  },
  {
   "cell_type": "code",
   "execution_count": null,
   "id": "66444fa8",
   "metadata": {
    "cell_style": "center"
   },
   "outputs": [],
   "source": [
    "%%html\n",
    "<canvas id=\"myCanvas\" width=\"900\" height=\"400\" style=\"border:1px solid #000000;\">\n",
    "</canvas>"
   ]
  },
  {
   "cell_type": "markdown",
   "id": "e3c2e794",
   "metadata": {},
   "source": [
    "<font color=\"orange\">The code below creates a dynamic canvas size. This requries I little bit more though on how you decide the to create all the objects."
   ]
  },
  {
   "cell_type": "markdown",
   "id": "792970c7",
   "metadata": {},
   "source": [
    "[Example here](https://github.com/pupster90/mind-reader/blob/master/website/freunds-mind-reader/staticFiles/script/RaceTrack.js) of how to code width and height dynamically."
   ]
  },
  {
   "cell_type": "code",
   "execution_count": null,
   "id": "f7d186e0",
   "metadata": {},
   "outputs": [],
   "source": [
    "#%%html\n",
    "#<div class=\"row\">\n",
    "#    <!-- canvas that shows racetrack -->\n",
    "#    <div id=\"canvasBox\" class=\"col-xs-12 col-md-offset-2 col-md-8\">\n",
    "#        <canvas  id=\"myCanvas\" width=\"1000\"height=\"500\" style=\" width:100%; height:auto;border:1px solid #000000;\"></canvas>\n",
    "#    </div>\n",
    "#</div>"
   ]
  },
  {
   "cell_type": "markdown",
   "id": "ee4f0f2c",
   "metadata": {},
   "source": [
    "# <font color=\"brown\">Javascript"
   ]
  },
  {
   "cell_type": "markdown",
   "id": "f99be512",
   "metadata": {},
   "source": [
    "## <font color=\"brown\">Add Square Canvas"
   ]
  },
  {
   "cell_type": "markdown",
   "id": "7de55909",
   "metadata": {},
   "source": [
    "Solution taken [from here](https://www.w3schools.com/html/html5_canvas.asp)"
   ]
  },
  {
   "cell_type": "code",
   "execution_count": null,
   "id": "5dba5010",
   "metadata": {},
   "outputs": [],
   "source": [
    "%%javascript\n",
    "var c = document.getElementById(\"myCanvas\");\n",
    "var ctx = c.getContext(\"2d\");\n",
    "ctx.beginPath();\n",
    "ctx.rect(20, 20, 450, 200);\n",
    "ctx.stroke();"
   ]
  },
  {
   "cell_type": "markdown",
   "id": "df67f5db",
   "metadata": {},
   "source": [
    "## <font color=\"brown\">Print Mouse Click"
   ]
  },
  {
   "cell_type": "markdown",
   "id": "2afc8ce2",
   "metadata": {},
   "source": [
    "Solution taken [from here](https://stackoverflow.com/questions/24384368/simple-button-in-html5-canvas/24384882)"
   ]
  },
  {
   "cell_type": "code",
   "execution_count": null,
   "id": "0d2d2581",
   "metadata": {},
   "outputs": [],
   "source": [
    "%%javascript\n",
    "//Function to get the mouse position\n",
    "function getMousePos(canvas, event) {\n",
    "    var rect = canvas.getBoundingClientRect();\n",
    "    return {\n",
    "        x: event.clientX - rect.left,\n",
    "        y: event.clientY - rect.top\n",
    "    };\n",
    "}\n",
    "\n",
    "var canvas = document.getElementById('myCanvas');\n",
    "var context = canvas.getContext('2d');\n",
    "canvas.addEventListener('click', function(evt) {\n",
    "    var mousePos = getMousePos(canvas, evt);\n",
    "    alert([ mousePos.x, mousePos.y ])\n",
    "}, false);"
   ]
  },
  {
   "cell_type": "markdown",
   "id": "fe0e07c8",
   "metadata": {},
   "source": [
    "## <font color=\"brown\">Add Object to Python"
   ]
  },
  {
   "cell_type": "markdown",
   "id": "6c7f06e8",
   "metadata": {},
   "source": [
    "Solution taken [from here](https://stackoverflow.com/questions/37172978/how-to-pass-variables-from-javascript-to-python-in-jupyter)"
   ]
  },
  {
   "cell_type": "code",
   "execution_count": null,
   "id": "b4b1a30f",
   "metadata": {},
   "outputs": [],
   "source": [
    "%%javascript\n",
    "IPython.notebook.kernel.execute(\"foo=106\")"
   ]
  },
  {
   "cell_type": "code",
   "execution_count": 7,
   "id": "3c183912",
   "metadata": {},
   "outputs": [
    {
     "name": "stdout",
     "output_type": "stream",
     "text": [
      "106\n"
     ]
    }
   ],
   "source": [
    "print(foo)"
   ]
  },
  {
   "cell_type": "code",
   "execution_count": null,
   "id": "51cd7e46",
   "metadata": {},
   "outputs": [],
   "source": []
  }
 ],
 "metadata": {
  "hide_input": false,
  "kernelspec": {
   "display_name": "Python 3",
   "language": "python",
   "name": "python3"
  },
  "language_info": {
   "codemirror_mode": {
    "name": "ipython",
    "version": 3
   },
   "file_extension": ".py",
   "mimetype": "text/x-python",
   "name": "python",
   "nbconvert_exporter": "python",
   "pygments_lexer": "ipython3",
   "version": "3.9.5"
  },
  "toc": {
   "base_numbering": 1,
   "nav_menu": {},
   "number_sections": true,
   "sideBar": true,
   "skip_h1_title": false,
   "title_cell": "Table of Contents",
   "title_sidebar": "Contents",
   "toc_cell": false,
   "toc_position": {},
   "toc_section_display": true,
   "toc_window_display": false
  },
  "widgets": {
   "application/vnd.jupyter.widget-state+json": {
    "state": {},
    "version_major": 2,
    "version_minor": 0
   }
  }
 },
 "nbformat": 4,
 "nbformat_minor": 5
}
