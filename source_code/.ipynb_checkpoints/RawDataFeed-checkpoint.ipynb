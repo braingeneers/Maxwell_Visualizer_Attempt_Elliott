{
 "cells": [
  {
   "cell_type": "markdown",
   "id": "e9b98799",
   "metadata": {},
   "source": [
    "<font size=7 face=\"Courier\">Maxwell Raw Data Feed - Source Code"
   ]
  },
  {
   "cell_type": "markdown",
   "id": "fb657ec8",
   "metadata": {},
   "source": [
    "This notebook is used to create a raw data feed form the MaxOne device. Code comes from [read_raw.py](/edit/Projects/Maxwell_Controller/closed_loop_2/edited_code/read_raw.py)"
   ]
  },
  {
   "cell_type": "markdown",
   "id": "2b9e0786",
   "metadata": {},
   "source": [
    "# <font color=\"grey\"> Set Up Notebook"
   ]
  },
  {
   "cell_type": "markdown",
   "id": "5a2dd7d3",
   "metadata": {},
   "source": [
    "Import packages Alex's packages"
   ]
  },
  {
   "cell_type": "code",
   "execution_count": 1,
   "id": "0f67024b",
   "metadata": {},
   "outputs": [],
   "source": [
    "import sys\n",
    "import zmq\n",
    "import struct\n",
    "import array\n",
    "import numpy as np"
   ]
  },
  {
   "cell_type": "markdown",
   "id": "c868f4e4",
   "metadata": {},
   "source": [
    "Import time. While debugging, we only show data every second so as to not flood the printed output."
   ]
  },
  {
   "cell_type": "code",
   "execution_count": 2,
   "id": "0ccd457e",
   "metadata": {},
   "outputs": [],
   "source": [
    "import time"
   ]
  },
  {
   "cell_type": "code",
   "execution_count": 13,
   "id": "56736c01",
   "metadata": {},
   "outputs": [],
   "source": [
    "import matplotlib.pyplot as plt"
   ]
  },
  {
   "cell_type": "code",
   "execution_count": 23,
   "id": "3316c611",
   "metadata": {},
   "outputs": [],
   "source": [
    "#%matplotlib inline"
   ]
  },
  {
   "cell_type": "markdown",
   "id": "862050ab",
   "metadata": {},
   "source": [
    "# <font color=\"grey\"> Helper Function - Socket Subscriber"
   ]
  },
  {
   "cell_type": "markdown",
   "id": "99f9b183",
   "metadata": {},
   "source": [
    "Generate a subscriber socket with the same settings as the original C++ program."
   ]
  },
  {
   "cell_type": "code",
   "execution_count": 3,
   "id": "f3e29e31",
   "metadata": {},
   "outputs": [],
   "source": [
    "def make_socket(port):\n",
    "    '''\n",
    "    Generate a subscriber socket with the same settings as the\n",
    "    original C++ program.\n",
    "    '''\n",
    "\n",
    "    print(f'Acquiring socket {port}... ', end='', flush=True)\n",
    "    subscriber = ctx.socket(zmq.SUB)\n",
    "    subscriber.setsockopt(zmq.RCVHWM, 0)\n",
    "    subscriber.setsockopt(zmq.RCVBUF, 10*20000*1030)\n",
    "    subscriber.setsockopt_string(zmq.SUBSCRIBE, \"\")\n",
    "    subscriber.setsockopt(zmq.RCVTIMEO, 100)\n",
    "    subscriber.connect(f'tcp://localhost:{port}')\n",
    "\n",
    "    more = True\n",
    "    while more:\n",
    "        try:\n",
    "            msg = subscriber.recv()\n",
    "        except zmq.ZMQError as e:\n",
    "            continue\n",
    "        more = subscriber.getsockopt(zmq.RCVMORE)\n",
    "    #print('acquired.', flush=True)\n",
    "\n",
    "    return subscriber"
   ]
  },
  {
   "cell_type": "markdown",
   "id": "e32fa153",
   "metadata": {},
   "source": [
    "# <font color=\"blue\">Raw Data Reader Function"
   ]
  },
  {
   "cell_type": "code",
   "execution_count": 4,
   "id": "7ad35e34",
   "metadata": {},
   "outputs": [
    {
     "name": "stdout",
     "output_type": "stream",
     "text": [
      "Acquiring socket 7205... Acquiring socket 7204... Frame #1808505537 (raw #1808505600, Δ=63):\n",
      "  raw has 1027 points, from -398.0 to 1000.0\n",
      " filt has 1027 points, from -0.5943862199783325 to 488.0\n",
      "Frame #1808525614 (raw #1808525677, Δ=63):\n",
      "  raw has 1027 points, from -399.0 to 1000.0\n",
      " filt has 1027 points, from -0.609379231929779 to 488.0\n",
      "Frame #1808545601 (raw #1808545664, Δ=63):\n",
      "  raw has 1027 points, from -399.0 to 1000.0\n",
      " filt has 1027 points, from -0.6906112432479858 to 488.0\n",
      "Frame #1808565569 (raw #1808565632, Δ=63):\n",
      "  raw has 1027 points, from -399.0 to 1000.0\n",
      " filt has 1027 points, from -0.4025176763534546 to 488.0\n",
      "Frame #1808585537 (raw #1808585600, Δ=63):\n",
      "  raw has 1027 points, from -399.0 to 1000.0\n",
      " filt has 1027 points, from -0.606167197227478 to 488.0\n",
      "Frame #1808605628 (raw #1808605691, Δ=63):\n",
      "  raw has 1027 points, from -399.0 to 1000.0\n",
      " filt has 1027 points, from -0.43338531255722046 to 488.0\n",
      "Frame #1808625579 (raw #1808625642, Δ=63):\n",
      "  raw has 1027 points, from -399.0 to 1000.0\n",
      " filt has 1027 points, from -0.849396824836731 to 488.0\n",
      "Frame #1808645569 (raw #1808645632, Δ=63):\n",
      "  raw has 1027 points, from -399.0 to 1000.0\n",
      " filt has 1027 points, from -0.9392197132110596 to 488.0\n",
      "Frame #1808665537 (raw #1808665600, Δ=63):\n",
      "  raw has 1027 points, from -399.0 to 1000.0\n",
      " filt has 1027 points, from -0.5753275156021118 to 488.0\n",
      "Frame #1808685626 (raw #1808685689, Δ=63):\n",
      "  raw has 1027 points, from -399.0 to 1000.0\n",
      " filt has 1027 points, from -0.6406171917915344 to 488.0\n",
      "Frame #1808705601 (raw #1808705664, Δ=63):\n",
      "  raw has 1027 points, from -398.0 to 1000.0\n",
      " filt has 1027 points, from -0.36726123094558716 to 488.0\n",
      "Frame #1808725569 (raw #1808725632, Δ=63):\n",
      "  raw has 1027 points, from -398.0 to 1000.0\n",
      " filt has 1027 points, from -0.6454031467437744 to 488.0\n",
      "Frame #1808745537 (raw #1808745600, Δ=63):\n",
      "  raw has 1027 points, from -398.0 to 1000.0\n",
      " filt has 1027 points, from -0.7557610273361206 to 488.0\n",
      "Frame #1808765611 (raw #1808765674, Δ=63):\n",
      "  raw has 1027 points, from -399.0 to 1000.0\n",
      " filt has 1027 points, from -0.31575751304626465 to 488.0\n",
      "Frame #1808785601 (raw #1808785664, Δ=63):\n",
      "  raw has 1027 points, from -399.0 to 1000.0\n",
      " filt has 1027 points, from -0.5658144950866699 to 488.0\n",
      "Frame #1808805569 (raw #1808805632, Δ=63):\n",
      "  raw has 1027 points, from -399.0 to 1000.0\n",
      " filt has 1027 points, from -0.35554465651512146 to 488.0\n",
      "Frame #1808825537 (raw #1808825600, Δ=63):\n",
      "  raw has 1027 points, from -399.0 to 1000.0\n",
      " filt has 1027 points, from -0.7037688493728638 to 488.0\n",
      "Frame #1808845602 (raw #1808845665, Δ=63):\n",
      "  raw has 1027 points, from -399.0 to 1000.0\n",
      " filt has 1027 points, from -0.4376048445701599 to 488.0\n",
      "Frame #1808865601 (raw #1808865664, Δ=63):\n",
      "  raw has 1027 points, from -399.0 to 1000.0\n",
      " filt has 1027 points, from -0.6735240817070007 to 488.0\n",
      "Frame #1808885569 (raw #1808885632, Δ=63):\n",
      "  raw has 1027 points, from -398.0 to 1000.0\n",
      " filt has 1027 points, from -0.41747403144836426 to 488.0\n",
      "Frame #1808905537 (raw #1808905600, Δ=63):\n",
      "  raw has 1027 points, from -399.0 to 1000.0\n",
      " filt has 1027 points, from -0.43018901348114014 to 488.0\n",
      "Frame #1808925616 (raw #1808925679, Δ=63):\n",
      "  raw has 1027 points, from -398.0 to 1000.0\n",
      " filt has 1027 points, from -0.6743452548980713 to 488.0\n",
      "Frame #1808945601 (raw #1808945664, Δ=63):\n",
      "  raw has 1027 points, from -399.0 to 1000.0\n",
      " filt has 1027 points, from -0.6749761700630188 to 488.0\n",
      "Frame #1808965569 (raw #1808965632, Δ=63):\n",
      "  raw has 1027 points, from -398.0 to 1000.0\n",
      " filt has 1027 points, from -0.4121294319629669 to 488.0\n",
      "Frame #1808985537 (raw #1808985600, Δ=63):\n",
      "  raw has 1027 points, from -399.0 to 1000.0\n",
      " filt has 1027 points, from -0.36046066880226135 to 488.0\n",
      "Frame #1809005608 (raw #1809005671, Δ=63):\n",
      "  raw has 1027 points, from -399.0 to 1000.0\n",
      " filt has 1027 points, from -0.44335755705833435 to 488.0\n"
     ]
    },
    {
     "ename": "KeyboardInterrupt",
     "evalue": "",
     "output_type": "error",
     "traceback": [
      "\u001b[0;31m---------------------------------------------------------------------------\u001b[0m",
      "\u001b[0;31mKeyboardInterrupt\u001b[0m                         Traceback (most recent call last)",
      "\u001b[0;32m<ipython-input-4-c1334bca7d50>\u001b[0m in \u001b[0;36m<module>\u001b[0;34m\u001b[0m\n\u001b[1;32m     12\u001b[0m         \u001b[0;31m# The first component of each message is the frame number as\u001b[0m\u001b[0;34m\u001b[0m\u001b[0;34m\u001b[0m\u001b[0;34m\u001b[0m\u001b[0m\n\u001b[1;32m     13\u001b[0m         \u001b[0;31m# a long long, so unpack that.\u001b[0m\u001b[0;34m\u001b[0m\u001b[0;34m\u001b[0m\u001b[0;34m\u001b[0m\u001b[0m\n\u001b[0;32m---> 14\u001b[0;31m         \u001b[0mframe_raw\u001b[0m \u001b[0;34m=\u001b[0m \u001b[0mstruct\u001b[0m\u001b[0;34m.\u001b[0m\u001b[0munpack\u001b[0m\u001b[0;34m(\u001b[0m\u001b[0;34m'Q'\u001b[0m\u001b[0;34m,\u001b[0m \u001b[0mraw\u001b[0m\u001b[0;34m.\u001b[0m\u001b[0mrecv\u001b[0m\u001b[0;34m(\u001b[0m\u001b[0;34m)\u001b[0m\u001b[0;34m)\u001b[0m\u001b[0;34m[\u001b[0m\u001b[0;36m0\u001b[0m\u001b[0;34m]\u001b[0m\u001b[0;34m\u001b[0m\u001b[0;34m\u001b[0m\u001b[0m\n\u001b[0m\u001b[1;32m     15\u001b[0m         \u001b[0mframe_number\u001b[0m \u001b[0;34m=\u001b[0m \u001b[0mstruct\u001b[0m\u001b[0;34m.\u001b[0m\u001b[0munpack\u001b[0m\u001b[0;34m(\u001b[0m\u001b[0;34m'Q'\u001b[0m\u001b[0;34m,\u001b[0m \u001b[0mfilt\u001b[0m\u001b[0;34m.\u001b[0m\u001b[0mrecv\u001b[0m\u001b[0;34m(\u001b[0m\u001b[0;34m)\u001b[0m\u001b[0;34m)\u001b[0m\u001b[0;34m[\u001b[0m\u001b[0;36m0\u001b[0m\u001b[0;34m]\u001b[0m\u001b[0;34m\u001b[0m\u001b[0;34m\u001b[0m\u001b[0m\n\u001b[1;32m     16\u001b[0m \u001b[0;34m\u001b[0m\u001b[0m\n",
      "\u001b[0;32mzmq/backend/cython/socket.pyx\u001b[0m in \u001b[0;36mzmq.backend.cython.socket.Socket.recv\u001b[0;34m()\u001b[0m\n",
      "\u001b[0;32mzmq/backend/cython/socket.pyx\u001b[0m in \u001b[0;36mzmq.backend.cython.socket.Socket.recv\u001b[0;34m()\u001b[0m\n",
      "\u001b[0;32mzmq/backend/cython/socket.pyx\u001b[0m in \u001b[0;36mzmq.backend.cython.socket._recv_copy\u001b[0;34m()\u001b[0m\n",
      "\u001b[0;32m~/miniconda3/lib/python3.9/site-packages/zmq/backend/cython/checkrc.pxd\u001b[0m in \u001b[0;36mzmq.backend.cython.checkrc._check_rc\u001b[0;34m()\u001b[0m\n",
      "\u001b[0;31mKeyboardInterrupt\u001b[0m: "
     ]
    }
   ],
   "source": [
    "\n",
    "ctx = zmq.Context.instance()\n",
    "\n",
    "filt = make_socket(7205)\n",
    "raw = make_socket(7204)\n",
    "time_old = round( time.time() )\n",
    "\n",
    "while True:\n",
    "    # Sometimes the publisher will be interrupted, so don't let that\n",
    "    # crash the entire program, just skip the frame.\n",
    "    frame_number = frame_raw = events_data = filt_data = raw_data = weird_data = None\n",
    "    try:\n",
    "        # The first component of each message is the frame number as\n",
    "        # a long long, so unpack that.\n",
    "        frame_raw = struct.unpack('Q', raw.recv())[0]\n",
    "        frame_number = struct.unpack('Q', filt.recv())[0]\n",
    "\n",
    "        # Grab the frame data from both raw and filtered channels.\n",
    "        if filt.getsockopt(zmq.RCVMORE):\n",
    "            filt_data = filt.recv()\n",
    "        if raw.getsockopt(zmq.RCVMORE):\n",
    "            raw_data = raw.recv()\n",
    "\n",
    "        # Only filtered has spike events; ignore these.\n",
    "        if filt.getsockopt(zmq.RCVMORE):\n",
    "            events_data = filt.recv()\n",
    "\n",
    "        # Looking for extra data.\n",
    "        if raw.getsockopt(zmq.RCVMORE):\n",
    "            #print(frame_number)\n",
    "            while raw.getsockopt(zmq.RCVMORE):\n",
    "                weird_data = raw.recv()\n",
    "                #print(f'There was more data, size {len(weird_data)}.')\n",
    "\n",
    "    except Exception as e:\n",
    "        print(e)  # ! What does this do?\n",
    "        continue\n",
    "\n",
    "    # `frame_data` is a 1027-element array containing the recorded voltage\n",
    "    # at each electrode, so unpack that into a usable format.\n",
    "    filt_arr = np.array(array.array('f', filt_data))\n",
    "    raw_arr = np.array(array.array('f', raw_data))\n",
    "\n",
    "    # Don't bother reading the events in this one, just check the size adn\n",
    "    # frame number of the two floating-point data frames.\n",
    "    time_new =  round( time.time() )\n",
    "    if time_old < time_new:\n",
    "        print(f'Frame #{frame_number} (raw #{frame_raw}, Δ={frame_raw-frame_number}):')\n",
    "        print(f'  raw has {len(raw_arr)} points, from {raw_arr.min()} to {raw_arr.max()}')\n",
    "        print(f' filt has {len(filt_arr)} points, from {filt_arr.min()} to {filt_arr.max()}')\n",
    "        time_old = time_new\n",
    "\n",
    "# If you split this code into multiple threads, e.g. to consolidate\n",
    "# this script with the one that handles the recordings, it will be\n",
    "# necessary to delete each subscriber to the ZMQ context separately\n",
    "# using the usual Python operator `del`, and then terminate the\n",
    "# context with `ctx.term()`. In a single-threaded script like this,\n",
    "# though, it's fine to just let the Python interpreter run all these\n",
    "# destructors when the program terminates."
   ]
  },
  {
   "cell_type": "markdown",
   "id": "01cee910",
   "metadata": {},
   "source": [
    "Run when finished so that we don't get an error message"
   ]
  },
  {
   "cell_type": "code",
   "execution_count": 5,
   "id": "ba8b313a",
   "metadata": {},
   "outputs": [],
   "source": [
    "del filt \n",
    "del raw\n",
    "ctx.term()"
   ]
  },
  {
   "cell_type": "code",
   "execution_count": 9,
   "id": "dea63883",
   "metadata": {},
   "outputs": [
    {
     "data": {
      "text/plain": [
       "1027"
      ]
     },
     "execution_count": 9,
     "metadata": {},
     "output_type": "execute_result"
    }
   ],
   "source": [
    "len(raw_arr)"
   ]
  },
  {
   "cell_type": "code",
   "execution_count": 28,
   "id": "dbf4607f",
   "metadata": {},
   "outputs": [
    {
     "data": {
      "image/png": "[encoded data removed]",
      "text/plain": [
       "<Figure size 432x288 with 1 Axes>"
      ]
     },
     "metadata": {
      "needs_background": "light"
     },
     "output_type": "display_data"
    }
   ],
   "source": [
    "plt.hist( raw_arr.tolist()[:30],3 )\n",
    "plt.show()"
   ]
  },
  {
   "cell_type": "code",
   "execution_count": 25,
   "id": "7b0ff027",
   "metadata": {},
   "outputs": [
    {
     "name": "stdout",
     "output_type": "stream",
     "text": [
      "[16.0, 17.0, 14.0, 15.0, 16.0, 17.0, 14.0, 15.0, 15.0, 17.0, 15.0, 15.0, 15.0, 16.0, 15.0, 15.0, 15.0, 16.0, 15.0, 14.0, 15.0, 16.0, 14.0, 14.0, 16.0, 17.0, 14.0, 16.0, 16.0, 16.0, 14.0, 16.0, 16.0, 17.0, 16.0, 15.0, 15.0, 16.0, 15.0, 14.0, 16.0, 17.0, 15.0, 14.0, 16.0, 17.0, 15.0, 14.0, 16.0, 17.0, 14.0, 16.0, 15.0, 17.0, 14.0, 16.0, 17.0, 16.0, 16.0, 15.0, 17.0, 16.0, 16.0, 15.0, 15.0, 17.0, 14.0, 15.0, 16.0, 17.0, 14.0, 14.0, 16.0, 17.0, 15.0, 15.0, 15.0, 17.0, 15.0, 15.0, 14.0, 16.0, 14.0, 15.0, 15.0, 16.0, 14.0, 15.0, 15.0, 17.0, 16.0, 15.0, 15.0, 17.0, 15.0, 15.0, 14.0, 15.0, 15.0, 15.0, -399.0, 15.0, 15.0, 15.0, 17.0, 17.0, 15.0, 14.0, 17.0, 16.0, 15.0, 14.0, 16.0, 16.0, 15.0, 16.0, 15.0, 16.0, 15.0, 15.0, 16.0, 17.0, 15.0, 15.0, 16.0, 17.0, 15.0, 14.0, 15.0, 17.0, 14.0, 15.0, 16.0, 17.0, 14.0, 16.0, 15.0, 16.0, 15.0, 16.0, 16.0, 17.0, 14.0, 15.0, 15.0, 15.0, 16.0, 15.0, 15.0, 16.0, 16.0, 16.0, 15.0, 16.0, 15.0, 15.0, 15.0, 17.0, 16.0, 15.0, 16.0, 16.0, 14.0, 14.0, 17.0, 17.0, 15.0, 14.0, 15.0, 16.0, 16.0, 14.0, 16.0, 16.0, 16.0, 14.0, 15.0, 17.0, 15.0, 15.0, 16.0, 17.0, 15.0, 15.0, 17.0, 17.0, 14.0, 16.0, 17.0, 18.0, 14.0, 15.0, 17.0, 16.0, 15.0, 16.0, 17.0, 16.0, 15.0, 16.0, 14.0, 17.0, 15.0, 15.0, 15.0, 17.0, 15.0, 15.0, 15.0, 16.0, 14.0, 15.0, 15.0, 17.0, 14.0, 16.0, 15.0, 16.0, 16.0, 14.0, 16.0, 16.0, 16.0, 14.0, 16.0, 17.0, 14.0, 15.0, 17.0, 17.0, 14.0, 16.0, 15.0, 16.0, 13.0, 15.0, 16.0, 17.0, 14.0, 16.0, 15.0, 16.0, 15.0, 16.0, 16.0, 17.0, 15.0, 16.0, 16.0, 15.0, 15.0, 15.0, 17.0, 16.0, 15.0, 16.0, 15.0, 17.0, 16.0, 17.0, 14.0, 16.0, 15.0, 15.0, 17.0, 17.0, 14.0, 16.0, 15.0, 18.0, 14.0, 15.0, 16.0, 18.0, 14.0, 16.0, 14.0, 17.0, 14.0, 14.0, 17.0, 15.0, 15.0, 16.0, 16.0, 15.0, 15.0, 15.0, 16.0, 17.0, 15.0, 15.0, 15.0, 17.0, 14.0, 15.0, 16.0, 17.0, 15.0, 17.0, 15.0, 17.0, 14.0, 16.0, 17.0, 17.0, 16.0, 15.0, 14.0, 16.0, 15.0, 14.0, 16.0, 17.0, 16.0, 16.0, 15.0, 17.0, 14.0, 15.0, 17.0, 17.0, 16.0, 16.0, 17.0, 18.0, 16.0, 15.0, 16.0, 18.0, 16.0, 16.0, 14.0, 16.0, 16.0, 16.0, 17.0, 17.0, 16.0, 16.0, 16.0, 17.0, 15.0, 15.0, 17.0, 17.0, 15.0, 16.0, 16.0, 17.0, 15.0, 16.0, 16.0, 17.0, 16.0, 16.0, 15.0, 17.0, 15.0, 14.0, 0.0, 0.0, 0.0, 0.0, 15.0, 16.0, 16.0, 16.0, 17.0, 17.0, 14.0, 16.0, 15.0, 17.0, 14.0, 15.0, 17.0, 17.0, 16.0, 16.0, 17.0, 16.0, 14.0, 16.0, 14.0, 16.0, 16.0, 14.0, 15.0, 16.0, 16.0, 15.0, 14.0, 16.0, 14.0, 16.0, 16.0, 16.0, 14.0, 17.0, 15.0, 15.0, 15.0, 15.0, 15.0, 16.0, 15.0, 15.0, 16.0, 16.0, 14.0, 15.0, 16.0, 17.0, 15.0, 16.0, 15.0, 14.0, 15.0, 15.0, 16.0, 15.0, 15.0, 16.0, 16.0, 16.0, 14.0, 14.0, 16.0, 16.0, 14.0, 16.0, 16.0, 15.0, 14.0, 15.0, 17.0, 16.0, 14.0, 15.0, 16.0, 17.0, 16.0, 15.0, 15.0, 16.0, 15.0, 15.0, 15.0, 16.0, 15.0, 15.0, 16.0, 17.0, 16.0, 15.0, 16.0, 16.0, 16.0, 14.0, 16.0, 17.0, 15.0, 14.0, 16.0, 16.0, 15.0, 16.0, 16.0, 16.0, 15.0, 16.0, 16.0, 16.0, 16.0, 15.0, 16.0, 16.0, 15.0, 16.0, 16.0, 16.0, 15.0, 15.0, 16.0, 16.0, 15.0, 14.0, 16.0, 15.0, 15.0, 14.0, 16.0, 17.0, 16.0, 16.0, 17.0, 17.0, 15.0, 14.0, 17.0, 17.0, 16.0, 15.0, 15.0, 15.0, 16.0, 16.0, 17.0, 16.0, 16.0, 16.0, 17.0, 16.0, 15.0, 14.0, 16.0, 15.0, 15.0, 14.0, 17.0, 16.0, 15.0, 15.0, 16.0, 15.0, 15.0, 15.0, 17.0, 17.0, 16.0, 16.0, 16.0, 16.0, 14.0, 15.0, 15.0, 17.0, 16.0, 16.0, 15.0, 16.0, 15.0, 15.0, 15.0, 17.0, 15.0, 16.0, 15.0, 16.0, 15.0, 15.0, 16.0, 15.0, 15.0, 14.0, 17.0, 16.0, 14.0, 14.0, 15.0, 17.0, 16.0, 16.0, 15.0, 16.0, 15.0, 15.0, 16.0, 17.0, 16.0, 15.0, 15.0, 17.0, 15.0, 15.0, 15.0, 16.0, 15.0, 14.0, 16.0, 17.0, 16.0, 15.0, 16.0, 17.0, 16.0, 16.0, 16.0, 16.0, 15.0, 16.0, 15.0, 17.0, 15.0, 14.0, 14.0, 16.0, 15.0, 14.0, 17.0, 17.0, 16.0, 16.0, 16.0, 16.0, 15.0, 16.0, 17.0, 16.0, 16.0, 15.0, 16.0, 16.0, 15.0, 15.0, 16.0, 16.0, 17.0, 16.0, 15.0, 17.0, 16.0, 15.0, 17.0, 16.0, 14.0, 17.0, 16.0, 16.0, 14.0, 15.0, 16.0, 15.0, 16.0, 14.0, 16.0, 16.0, 15.0, 14.0, 17.0, 17.0, 14.0, 15.0, 18.0, 17.0, 15.0, 15.0, 16.0, 16.0, 15.0, 15.0, 17.0, 16.0, 16.0, 16.0, 15.0, 15.0, 14.0, 16.0, 15.0, 15.0, 14.0, 16.0, 17.0, 16.0, 15.0, 16.0, 17.0, 17.0, 16.0, 15.0, 15.0, 16.0, 15.0, 15.0, 16.0, 16.0, 15.0, 15.0, 15.0, 16.0, 14.0, 15.0, 17.0, 17.0, 14.0, 15.0, 16.0, 16.0, 15.0, 15.0, 16.0, 16.0, 15.0, 15.0, 17.0, 17.0, 15.0, 16.0, 17.0, 16.0, 15.0, 16.0, 16.0, 18.0, 15.0, 15.0, 16.0, 18.0, 16.0, 15.0, 16.0, 17.0, 15.0, 14.0, 17.0, 17.0, 15.0, 15.0, 17.0, 16.0, 15.0, 15.0, 17.0, 16.0, 16.0, 16.0, 15.0, 16.0, 15.0, 15.0, 17.0, 16.0, 16.0, 15.0, 15.0, 16.0, 14.0, 15.0, 16.0, 16.0, 14.0, 15.0, 16.0, 16.0, 15.0, 15.0, 17.0, 16.0, 15.0, 14.0, 16.0, 15.0, 15.0, 16.0, 17.0, 15.0, 15.0, 16.0, 15.0, 16.0, 15.0, 15.0, 16.0, 16.0, 16.0, 16.0, 17.0, 16.0, 16.0, 17.0, 17.0, 15.0, 16.0, 16.0, 15.0, 17.0, 16.0, 14.0, 16.0, 16.0, 16.0, 14.0, 16.0, 17.0, 15.0, 15.0, 15.0, 16.0, 15.0, 15.0, 17.0, 17.0, 16.0, 16.0, 17.0, 17.0, 16.0, 16.0, 17.0, 16.0, 16.0, 15.0, 16.0, 15.0, 16.0, 16.0, 17.0, 17.0, 16.0, 15.0, 16.0, 16.0, 16.0, 14.0, 16.0, 18.0, 16.0, 16.0, 16.0, 16.0, 16.0, 16.0, 17.0, 17.0, 16.0, 15.0, 16.0, 16.0, 16.0, 14.0, 17.0, 17.0, 16.0, 15.0, 18.0, 17.0, 16.0, 16.0, 15.0, 17.0, 15.0, 16.0, 15.0, 16.0, 15.0, 16.0, 16.0, 18.0, 15.0, 15.0, 15.0, 16.0, 15.0, 15.0, 18.0, 17.0, 15.0, 17.0, 16.0, 16.0, 15.0, 16.0, 17.0, 17.0, 16.0, 15.0, 16.0, 16.0, 16.0, 15.0, 18.0, 18.0, 15.0, 15.0, 17.0, 16.0, 15.0, 14.0, 16.0, 16.0, 16.0, 14.0, 16.0, 15.0, 16.0, 15.0, 18.0, 18.0, 16.0, 15.0, 17.0, 17.0, 15.0, 14.0, 16.0, 16.0, 14.0, 15.0, 16.0, 16.0, 14.0, 15.0, 17.0, 17.0, 16.0, 15.0, 17.0, 17.0, 16.0, 15.0, 16.0, 17.0, 15.0, 15.0, 16.0, 17.0, 16.0, 15.0, 16.0, 16.0, 14.0, 15.0, 17.0, 16.0, 15.0, 15.0, 16.0, 15.0, 15.0, 15.0, 17.0, 15.0, 15.0, 16.0, 16.0, 16.0, 15.0, 14.0, 16.0, 17.0, 15.0, 15.0, 15.0, 15.0, 14.0, 15.0, 16.0, 16.0, 15.0, 16.0, 17.0, 16.0, 15.0, 14.0, 17.0, 16.0, 15.0, 16.0, 16.0, 17.0, 16.0, 15.0, 16.0, 16.0, 16.0, 15.0, 15.0, 16.0, 15.0, 16.0, 15.0, 17.0, 16.0, 16.0, 16.0, 15.0, 15.0, 15.0, 16.0, 15.0, 15.0, 15.0, 16.0, 16.0, 14.0, 15.0, 16.0, 17.0, 16.0, 15.0, 17.0, 16.0, 15.0, 15.0, 17.0, 16.0, 15.0, 15.0, 15.0, 16.0, 14.0, 15.0, 16.0, 16.0, 15.0, 15.0, 16.0, 15.0, 15.0, 14.0, 17.0, 15.0, 16.0, 15.0, 16.0, 17.0, 15.0, 15.0, 17.0, 18.0, 16.0, 16.0, 1000.0, 0.0, 16.0]\n"
     ]
    }
   ],
   "source": [
    "print(raw_arr.tolist())"
   ]
  },
  {
   "cell_type": "code",
   "execution_count": 29,
   "id": "36c8a5e5",
   "metadata": {},
   "outputs": [
    {
     "data": {
      "text/plain": [
       "-399.0"
      ]
     },
     "execution_count": 29,
     "metadata": {},
     "output_type": "execute_result"
    }
   ],
   "source": [
    "min(raw_arr)"
   ]
  },
  {
   "cell_type": "code",
   "execution_count": 30,
   "id": "4a44566c",
   "metadata": {},
   "outputs": [
    {
     "data": {
      "text/plain": [
       "1000.0"
      ]
     },
     "execution_count": 30,
     "metadata": {},
     "output_type": "execute_result"
    }
   ],
   "source": [
    "max(raw_arr)"
   ]
  },
  {
   "cell_type": "code",
   "execution_count": 43,
   "id": "30ed394d",
   "metadata": {},
   "outputs": [],
   "source": [
    "import numpy as np\n",
    "from scipy import  stats\n",
    "import pandas as pd"
   ]
  },
  {
   "cell_type": "code",
   "execution_count": 36,
   "id": "f080ffb8",
   "metadata": {},
   "outputs": [
    {
     "name": "stdout",
     "output_type": "stream",
     "text": [
      "DescribeResult(nobs=1027, minmax=(-399.0, 1000.0), mean=16.122687439143135, variance=1113.8270383846668, skewness=23.106743812357003, kurtosis=757.2457103952752)\n"
     ]
    }
   ],
   "source": [
    "print(stats.describe(raw_arr.tolist()))"
   ]
  },
  {
   "cell_type": "code",
   "execution_count": 38,
   "id": "6fef9c8a",
   "metadata": {},
   "outputs": [
    {
     "data": {
      "text/plain": [
       "33.357796"
      ]
     },
     "execution_count": 38,
     "metadata": {},
     "output_type": "execute_result"
    }
   ],
   "source": [
    "np.std(raw_arr)"
   ]
  },
  {
   "cell_type": "code",
   "execution_count": 45,
   "id": "06e364ad",
   "metadata": {},
   "outputs": [
    {
     "ename": "AttributeError",
     "evalue": "'DataFrame' object has no attribute 'time_diff'",
     "output_type": "error",
     "traceback": [
      "\u001b[0;31m---------------------------------------------------------------------------\u001b[0m",
      "\u001b[0;31mAttributeError\u001b[0m                            Traceback (most recent call last)",
      "\u001b[0;32m<ipython-input-45-eea12fe12e64>\u001b[0m in \u001b[0;36m<module>\u001b[0;34m\u001b[0m\n\u001b[1;32m      1\u001b[0m \u001b[0mdf\u001b[0m \u001b[0;34m=\u001b[0m \u001b[0mpd\u001b[0m\u001b[0;34m.\u001b[0m\u001b[0mDataFrame\u001b[0m\u001b[0;34m(\u001b[0m\u001b[0mraw_arr\u001b[0m\u001b[0;34m)\u001b[0m\u001b[0;34m\u001b[0m\u001b[0;34m\u001b[0m\u001b[0m\n\u001b[0;32m----> 2\u001b[0;31m \u001b[0mdf\u001b[0m\u001b[0;34m.\u001b[0m\u001b[0mtime_diff\u001b[0m\u001b[0;34m.\u001b[0m\u001b[0mquantile\u001b[0m\u001b[0;34m(\u001b[0m\u001b[0;34m[\u001b[0m\u001b[0;36m0.25\u001b[0m\u001b[0;34m,\u001b[0m\u001b[0;36m0.5\u001b[0m\u001b[0;34m,\u001b[0m\u001b[0;36m0.75\u001b[0m\u001b[0;34m]\u001b[0m\u001b[0;34m)\u001b[0m\u001b[0;34m\u001b[0m\u001b[0;34m\u001b[0m\u001b[0m\n\u001b[0m",
      "\u001b[0;32m~/miniconda3/lib/python3.9/site-packages/pandas/core/generic.py\u001b[0m in \u001b[0;36m__getattr__\u001b[0;34m(self, name)\u001b[0m\n\u001b[1;32m   5476\u001b[0m         ):\n\u001b[1;32m   5477\u001b[0m             \u001b[0;32mreturn\u001b[0m \u001b[0mself\u001b[0m\u001b[0;34m[\u001b[0m\u001b[0mname\u001b[0m\u001b[0;34m]\u001b[0m\u001b[0;34m\u001b[0m\u001b[0;34m\u001b[0m\u001b[0m\n\u001b[0;32m-> 5478\u001b[0;31m         \u001b[0;32mreturn\u001b[0m \u001b[0mobject\u001b[0m\u001b[0;34m.\u001b[0m\u001b[0m__getattribute__\u001b[0m\u001b[0;34m(\u001b[0m\u001b[0mself\u001b[0m\u001b[0;34m,\u001b[0m \u001b[0mname\u001b[0m\u001b[0;34m)\u001b[0m\u001b[0;34m\u001b[0m\u001b[0;34m\u001b[0m\u001b[0m\n\u001b[0m\u001b[1;32m   5479\u001b[0m \u001b[0;34m\u001b[0m\u001b[0m\n\u001b[1;32m   5480\u001b[0m     \u001b[0;32mdef\u001b[0m \u001b[0m__setattr__\u001b[0m\u001b[0;34m(\u001b[0m\u001b[0mself\u001b[0m\u001b[0;34m,\u001b[0m \u001b[0mname\u001b[0m\u001b[0;34m:\u001b[0m \u001b[0mstr\u001b[0m\u001b[0;34m,\u001b[0m \u001b[0mvalue\u001b[0m\u001b[0;34m)\u001b[0m \u001b[0;34m->\u001b[0m \u001b[0;32mNone\u001b[0m\u001b[0;34m:\u001b[0m\u001b[0;34m\u001b[0m\u001b[0;34m\u001b[0m\u001b[0m\n",
      "\u001b[0;31mAttributeError\u001b[0m: 'DataFrame' object has no attribute 'time_diff'"
     ]
    }
   ],
   "source": [
    "df = pd.DataFrame(raw_arr)\n",
    "df.time_diff.quantile([0.25,0.5,0.75])"
   ]
  },
  {
   "cell_type": "code",
   "execution_count": 46,
   "id": "3362c5b3",
   "metadata": {},
   "outputs": [
    {
     "data": {
      "text/plain": [
       "15.0"
      ]
     },
     "execution_count": 46,
     "metadata": {},
     "output_type": "execute_result"
    }
   ],
   "source": [
    "np.quantile( raw_arr, .25 )"
   ]
  },
  {
   "cell_type": "code",
   "execution_count": 47,
   "id": "a3977b8d",
   "metadata": {},
   "outputs": [
    {
     "data": {
      "text/plain": [
       "16.0"
      ]
     },
     "execution_count": 47,
     "metadata": {},
     "output_type": "execute_result"
    }
   ],
   "source": [
    "np.quantile( raw_arr, .75 )"
   ]
  },
  {
   "cell_type": "code",
   "execution_count": null,
   "id": "4d5162db",
   "metadata": {},
   "outputs": [],
   "source": []
  }
 ],
 "metadata": {
  "hide_input": false,
  "kernelspec": {
   "display_name": "Python 3",
   "language": "python",
   "name": "python3"
  },
  "language_info": {
   "codemirror_mode": {
    "name": "ipython",
    "version": 3
   },
   "file_extension": ".py",
   "mimetype": "text/x-python",
   "name": "python",
   "nbconvert_exporter": "python",
   "pygments_lexer": "ipython3",
   "version": "3.9.5"
  },
  "toc": {
   "base_numbering": 1,
   "nav_menu": {},
   "number_sections": true,
   "sideBar": true,
   "skip_h1_title": false,
   "title_cell": "Table of Contents",
   "title_sidebar": "Contents",
   "toc_cell": false,
   "toc_position": {},
   "toc_section_display": true,
   "toc_window_display": false
  }
 },
 "nbformat": 4,
 "nbformat_minor": 5
}
