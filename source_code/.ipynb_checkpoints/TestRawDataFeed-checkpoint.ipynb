{
 "cells": [
  {
   "cell_type": "markdown",
   "id": "c120aa5f",
   "metadata": {},
   "source": [
    "<font size=7>Raw Data Feed"
   ]
  },
  {
   "cell_type": "markdown",
   "id": "3a8d2afc",
   "metadata": {},
   "source": [
    "This function streams the raw data from the maxwell device. It uses a generator to pass the data to python as it become available."
   ]
  },
  {
   "cell_type": "markdown",
   "id": "507a38bc",
   "metadata": {},
   "source": [
    "**References**\n",
    "* [Generator Function Tutorial](https://wiki.python.org/moin/Generators)"
   ]
  },
  {
   "cell_type": "markdown",
   "id": "e0e46608",
   "metadata": {},
   "source": [
    "# <font color=\"brown\">Test generator functions"
   ]
  },
  {
   "cell_type": "markdown",
   "id": "182ec9f3",
   "metadata": {},
   "source": [
    "## <font color=\"brown\">Test 1"
   ]
  },
  {
   "cell_type": "markdown",
   "id": "ca0f9a6d",
   "metadata": {},
   "source": [
    "Here I make sure I understand how generator functions work. We generate random data to be fed into the visualizer."
   ]
  },
  {
   "cell_type": "code",
   "execution_count": null,
   "id": "2e9e9030",
   "metadata": {},
   "outputs": [],
   "source": [
    "#import random\n",
    "import numpy as np\n",
    "import time\n",
    "def rawDataFeedTest1():\n",
    "    num = 0\n",
    "    while num < 20:\n",
    "        time.sleep(.2)\n",
    "        data = np.random.choice( range(10), size=26400 ).tolist() # 26400 is the number of electrodes\n",
    "        yield data\n",
    "        num += 1\n",
    "    print(\"done\")"
   ]
  },
  {
   "cell_type": "markdown",
   "id": "92549c8c",
   "metadata": {},
   "source": [
    "## <font color=\"brown\"> Test 2"
   ]
  },
  {
   "cell_type": "markdown",
   "id": "5cc3774f",
   "metadata": {},
   "source": [
    "Here we do the same thing as above, but insert a pretty image half of the time."
   ]
  },
  {
   "cell_type": "code",
   "execution_count": null,
   "id": "226c1f1b",
   "metadata": {},
   "outputs": [],
   "source": [
    "import numpy as np\n",
    "import time\n",
    "def rawDataFeedTest2():\n",
    "    num = 0\n",
    "    while num < 20:\n",
    "        time.sleep(.2)\n",
    "        #if num%2:\n",
    "            #data = np.random.choice( range(10), size=26400 ).tolist() # 26400 is the number of electrodes\n",
    "        #else:\n",
    "        temp = np.arange(220)/219*10\n",
    "        data = temp.tolist()*120\n",
    "        yield data\n",
    "        num += 1\n",
    "    print(\"done\")"
   ]
  },
  {
   "cell_type": "markdown",
   "id": "514081da",
   "metadata": {},
   "source": [
    "## <font color=\"brown\">Test 3"
   ]
  },
  {
   "cell_type": "markdown",
   "id": "00e09b8d",
   "metadata": {},
   "source": [
    "Here we display the activity scan electrodes"
   ]
  },
  {
   "cell_type": "markdown",
   "id": "96ec6c3d",
   "metadata": {},
   "source": [
    "function to grap scans"
   ]
  },
  {
   "cell_type": "code",
   "execution_count": 6,
   "id": "fea11e4f",
   "metadata": {},
   "outputs": [],
   "source": [
    "def getScans(space=6):\n",
    "    scans = []\n",
    "\n",
    "    for right_shift in range(space): # How many indices we shift right before we start the scan\n",
    "        for down_shift in range(space):\n",
    "\n",
    "            electrodes = []\n",
    "            most_left = down_shift * 220               #  index that is at the left edge of hte grid for a given row\n",
    "            i_left = right_shift + down_shift * 220    # leftmost index in a row where we collect electrodes\n",
    "\n",
    "            while i_left/220 < 120:              # check that the row which we want to collect electrodes from is not beyond bottom boundary\n",
    "                i = i_left                         # Append leftmost electrode to list, then start moving right to collect more\n",
    "                electrodes.append(i_left)\n",
    "\n",
    "                while i-most_left+space < 220:  # keep moving right until we reach the rightmost boundary \n",
    "                    i += space\n",
    "                    electrodes.append(i)\n",
    "\n",
    "                i_left += 220*space         # once we reach the rightmost boundary, jump down to the next row\n",
    "                most_left += 220*space\n",
    "\n",
    "            scans.append(electrodes)        # add scan to list of scans\n",
    "    return scans"
   ]
  },
  {
   "cell_type": "code",
   "execution_count": 10,
   "id": "3f28b99b",
   "metadata": {},
   "outputs": [],
   "source": [
    "\n",
    "def rawDataFeedTest3():\n",
    "    scans = getScans()\n",
    "    for scan in scans:\n",
    "        data = [0]*26400 \n",
    "        for i in scan:\n",
    "            data[i]=10\n",
    "        yield data\n",
    "        time.sleep(.3)\n",
    "    print(\"done\")"
   ]
  },
  {
   "cell_type": "markdown",
   "id": "d5b88cae",
   "metadata": {},
   "source": [
    "# <font color=\"brown\"> Test 4"
   ]
  },
  {
   "cell_type": "code",
   "execution_count": 7,
   "id": "f2dea0d6",
   "metadata": {},
   "outputs": [],
   "source": [
    "def rawDataFeedTest4():\n",
    "    new_scan = []\n",
    "    scans = getScans(5)\n",
    "    starter = 1055\n",
    "    for scan in scans:\n",
    "        for i in range(starter,0,-33):\n",
    "            new_scan.append( scan.pop(i) )\n",
    "        starter += -1\n",
    "    scans.append(new_scan)\n",
    "    \n",
    "    for scan in scans:\n",
    "        data = [0]*26400 \n",
    "        for i in scan:\n",
    "            data[i]=10\n",
    "        yield data\n",
    "        time.sleep(.5)\n",
    "    print(\"done\")"
   ]
  },
  {
   "cell_type": "code",
   "execution_count": null,
   "id": "8277a619",
   "metadata": {},
   "outputs": [],
   "source": []
  },
  {
   "cell_type": "markdown",
   "id": "3a626b7e",
   "metadata": {},
   "source": [
    "# <font color=\"blue\">Realistic `rawDataFeed` function "
   ]
  },
  {
   "cell_type": "markdown",
   "id": "2361db51",
   "metadata": {},
   "source": [
    "This function is meant to resemble as close as possible the output of the actual `rawDataFeed` from [RawDataFeed.ipynb](/notebooks/Projects/Maxwell_Closed_Loop/source_code/RawDataFeed.ipynb). "
   ]
  },
  {
   "cell_type": "code",
   "execution_count": null,
   "id": "ad84f72d",
   "metadata": {},
   "outputs": [],
   "source": []
  },
  {
   "cell_type": "code",
   "execution_count": 261,
   "id": "16c28ed5",
   "metadata": {},
   "outputs": [],
   "source": [
    "#import random\n",
    "#import time\n",
    "def rawDataFeed( hz=20000, record_length_s=10):\n",
    "    #rand_sign = stats.rv_discrete(name='rand_sign', values=([-1,1], [.5,.5]))     # distribution used to change sign of output\n",
    "    \n",
    "    for i in range( record_length_s*hz ):\n",
    "        #time.sleep(1/hz)  # dont need this, because the computation itself causes lag\n",
    "        \n",
    "        #final_data = [1 for i in range(1027)]\n",
    "        data = np.random.lognormal(0, 2, 1027)                               # Use negative binomial to generate data from distribution         \n",
    "        data_sign = np.random.choice([-1,1],1027)\n",
    "        final_data = np.round( data * data_sign + 15 )                            # Create final data that emulates maxwell\n",
    "        yield final_data\n"
   ]
  },
  {
   "cell_type": "code",
   "execution_count": null,
   "id": "d6d235db",
   "metadata": {},
   "outputs": [],
   "source": [
    "print(\"loaded function called `rawDataFeed`\")"
   ]
  },
  {
   "cell_type": "markdown",
   "id": "a5ac0537",
   "metadata": {},
   "source": [
    "# <font color=\"brown\">Scratch Paper"
   ]
  },
  {
   "cell_type": "markdown",
   "id": "969b5609",
   "metadata": {},
   "source": [
    "## <font color=\"brown\">Test Distribution"
   ]
  },
  {
   "cell_type": "markdown",
   "id": "433ba0be",
   "metadata": {},
   "source": [
    "### Logarithmic Distribution"
   ]
  },
  {
   "cell_type": "markdown",
   "id": "784fb396",
   "metadata": {},
   "source": [
    "https://numpy.org/doc/stable/reference/random/generated/numpy.random.lognormal.html"
   ]
  },
  {
   "cell_type": "markdown",
   "id": "3d7b2806",
   "metadata": {},
   "source": [
    "https://docs.scipy.org/doc/scipy/reference/generated/scipy.stats.rv_discrete.html"
   ]
  },
  {
   "cell_type": "code",
   "execution_count": 229,
   "id": "627ad58e",
   "metadata": {},
   "outputs": [],
   "source": [
    "from scipy import stats"
   ]
  },
  {
   "cell_type": "code",
   "execution_count": 242,
   "id": "b26f08ce",
   "metadata": {},
   "outputs": [],
   "source": [
    "import numpy as np"
   ]
  },
  {
   "cell_type": "code",
   "execution_count": 230,
   "id": "57623c20",
   "metadata": {},
   "outputs": [],
   "source": [
    "from scipy.stats import poisson\n",
    "import matplotlib.pyplot as plt"
   ]
  },
  {
   "cell_type": "code",
   "execution_count": 231,
   "id": "0c4d351e",
   "metadata": {},
   "outputs": [],
   "source": [
    "import numpy as np"
   ]
  },
  {
   "cell_type": "code",
   "execution_count": 232,
   "id": "3e60e681",
   "metadata": {},
   "outputs": [],
   "source": [
    "mu, sigma = 0., 2 # mean and standard deviation\n",
    "s = np.random.lognormal(mu, sigma, 1000)"
   ]
  },
  {
   "cell_type": "code",
   "execution_count": 233,
   "id": "25a38a1b",
   "metadata": {},
   "outputs": [],
   "source": [
    "count, bins, ignored = plt.hist(s, 100, density=True, align='mid')"
   ]
  },
  {
   "cell_type": "code",
   "execution_count": 234,
   "id": "1a2b5058",
   "metadata": {},
   "outputs": [],
   "source": [
    "x = np.linspace(min(bins), max(bins), 10000)\n",
    "pdf = (np.exp(-(np.log(x) - mu)**2 / (2 * sigma**2))\n",
    "       / (x * sigma * np.sqrt(2 * np.pi)))"
   ]
  },
  {
   "cell_type": "code",
   "execution_count": 235,
   "id": "71f45bf6",
   "metadata": {},
   "outputs": [
    {
     "data": {
      "image/png": "[encoded data removed]",
      "text/plain": [
       "<Figure size 640x480 with 1 Axes>"
      ]
     },
     "metadata": {},
     "output_type": "display_data"
    }
   ],
   "source": [
    "plt.plot(x, pdf, linewidth=2, color='r')\n",
    "plt.axis('tight')\n",
    "plt.show()"
   ]
  },
  {
   "cell_type": "markdown",
   "id": "a7539f0e",
   "metadata": {},
   "source": [
    "### Emulate a Single Raw Outpute from Feed"
   ]
  },
  {
   "cell_type": "code",
   "execution_count": 239,
   "id": "9c7cc9dc",
   "metadata": {},
   "outputs": [],
   "source": [
    "data = np.random.lognormal(mu, sigma, 1027)                               # Use negative binomial to generate data from distribution         \n",
    "rand_sign = stats.rv_discrete(name='rand_sign', values=([-1,1], [.5,.5])) # Change sign of data randomely\n",
    "data_sign = rand_sign.rvs(size= 1027) \n",
    "\n",
    "final_data = np.round( data * data_sign + 15 )                            # Create final data that emulates maxwell"
   ]
  },
  {
   "cell_type": "code",
   "execution_count": null,
   "id": "40002abf",
   "metadata": {},
   "outputs": [],
   "source": []
  },
  {
   "cell_type": "code",
   "execution_count": null,
   "id": "865b7509",
   "metadata": {},
   "outputs": [],
   "source": []
  },
  {
   "cell_type": "code",
   "execution_count": null,
   "id": "314c00d5",
   "metadata": {},
   "outputs": [],
   "source": []
  },
  {
   "cell_type": "code",
   "execution_count": null,
   "id": "d362f288",
   "metadata": {},
   "outputs": [],
   "source": []
  }
 ],
 "metadata": {
  "hide_input": false,
  "kernelspec": {
   "display_name": "Python 3",
   "language": "python",
   "name": "python3"
  },
  "language_info": {
   "codemirror_mode": {
    "name": "ipython",
    "version": 3
   },
   "file_extension": ".py",
   "mimetype": "text/x-python",
   "name": "python",
   "nbconvert_exporter": "python",
   "pygments_lexer": "ipython3",
   "version": "3.9.5"
  },
  "toc": {
   "base_numbering": 1,
   "nav_menu": {},
   "number_sections": true,
   "sideBar": true,
   "skip_h1_title": false,
   "title_cell": "Table of Contents",
   "title_sidebar": "Contents",
   "toc_cell": false,
   "toc_position": {},
   "toc_section_display": true,
   "toc_window_display": false
  },
  "widgets": {
   "application/vnd.jupyter.widget-state+json": {
    "state": {},
    "version_major": 2,
    "version_minor": 0
   }
  }
 },
 "nbformat": 4,
 "nbformat_minor": 5
}
