{
 "cells": [
  {
   "cell_type": "markdown",
   "id": "3c8f0275",
   "metadata": {},
   "source": [
    "<font size=7 face=\"Courier\"> Data Processer - Source Code"
   ]
  },
  {
   "cell_type": "markdown",
   "id": "a7e11b3e",
   "metadata": {},
   "source": [
    "Here we take the outputs that stream from the [RawDataFeed.ipynb](/notebooks/Projects/Maxwell_Closed_Loop/source_code/RawDataFeed.ipynb) process them. The purpose of processing data is to determine where spikes occur so that they can be outputed to the visualizer."
   ]
  },
  {
   "cell_type": "markdown",
   "id": "eec43a05",
   "metadata": {},
   "source": [
    "# Set Up Notebook"
   ]
  },
  {
   "cell_type": "markdown",
   "id": "123bed9b",
   "metadata": {},
   "source": [
    "We use [TestRawDataFeed.ipynb](/notebooks/Projects/Maxwell_Closed_Loop/source_code/TestRawDataFeed.ipynb) while we are in development. It's also convenient to use the test when the Maxwell is out of operation."
   ]
  },
  {
   "cell_type": "code",
   "execution_count": 125,
   "id": "7884e026",
   "metadata": {},
   "outputs": [
    {
     "name": "stdout",
     "output_type": "stream",
     "text": [
      "loaded function called `rawDataFeed`\n"
     ]
    },
    {
     "data": {
      "image/png": "[encoded data removed]",
      "text/plain": [
       "<Figure size 640x480 with 1 Axes>"
      ]
     },
     "metadata": {},
     "output_type": "display_data"
    }
   ],
   "source": [
    "#%run RawDataFeed.ipynb\n",
    "%run TestRawDataFeed.ipynb"
   ]
  },
  {
   "cell_type": "markdown",
   "id": "688006cd",
   "metadata": {},
   "source": [
    "# Create Buffer"
   ]
  },
  {
   "cell_type": "markdown",
   "id": "2385f590",
   "metadata": {},
   "source": [
    "We first collect the data into buffer of a certain window size (in seconds) so that we can later do some analysis."
   ]
  },
  {
   "cell_type": "code",
   "execution_count": 6,
   "id": "6c8b180f",
   "metadata": {},
   "outputs": [],
   "source": [
    "hz = 20000"
   ]
  },
  {
   "cell_type": "code",
   "execution_count": 9,
   "id": "a4986934",
   "metadata": {},
   "outputs": [
    {
     "data": {
      "text/plain": [
       "'Collect 5000.0 frames, every 0.25 seconds'"
      ]
     },
     "execution_count": 9,
     "metadata": {},
     "output_type": "execute_result"
    }
   ],
   "source": [
    "\"Collect \"+str(hz/4)+\" frames, every \"+str(1/4)+\" seconds\""
   ]
  },
  {
   "cell_type": "code",
   "execution_count": 23,
   "id": "520ad439",
   "metadata": {},
   "outputs": [],
   "source": [
    "window_ms = 250"
   ]
  },
  {
   "cell_type": "code",
   "execution_count": 34,
   "id": "cf76b274",
   "metadata": {},
   "outputs": [],
   "source": [
    "frames = round( hz*window_ms/1000 ) "
   ]
  },
  {
   "cell_type": "code",
   "execution_count": 126,
   "id": "f901f2b8",
   "metadata": {},
   "outputs": [],
   "source": [
    "def buffer( window_ms=250, hz=20000 ):\n",
    "    \n",
    "    num_frames = round( hz*window_ms/1000 ) \n",
    "    data = [ [] for i in range(1024) ]\n",
    "    \n",
    "    for raw_data in rawDataFeed():\n",
    "        if len(data[0]) >= num_frames:\n",
    "            yield data\n",
    "            data = [ [] for i in range(1024) ]\n",
    "            \n",
    "        for i in range(1024):        # we assume the first 1024 points of hte data feed are the electrodes\n",
    "            data[i].append( raw_data[i] )\n",
    "\n",
    "        \n"
   ]
  },
  {
   "cell_type": "markdown",
   "id": "ca29b9be",
   "metadata": {},
   "source": [
    "## <font color=\"brown\">Test IT"
   ]
  },
  {
   "cell_type": "code",
   "execution_count": 90,
   "id": "addb754b",
   "metadata": {},
   "outputs": [],
   "source": [
    "def proccessedData():\n",
    "    count = 0\n",
    "    \n",
    "    for window in buffer():\n",
    "        count += 1\n",
    "        print(count)\n",
    "        \n",
    "        yield window\n",
    "        \n",
    "        \n",
    "    "
   ]
  },
  {
   "cell_type": "code",
   "execution_count": 91,
   "id": "4d57a9b2",
   "metadata": {},
   "outputs": [
    {
     "name": "stdout",
     "output_type": "stream",
     "text": [
      "1\n"
     ]
    },
    {
     "ename": "KeyboardInterrupt",
     "evalue": "",
     "output_type": "error",
     "traceback": [
      "\u001b[0;31m---------------------------------------------------------------------------\u001b[0m",
      "\u001b[0;31mKeyboardInterrupt\u001b[0m                         Traceback (most recent call last)",
      "\u001b[0;32m<ipython-input-91-bc2cd4484514>\u001b[0m in \u001b[0;36m<module>\u001b[0;34m\u001b[0m\n\u001b[0;32m----> 1\u001b[0;31m \u001b[0;32mfor\u001b[0m \u001b[0mdata\u001b[0m \u001b[0;32min\u001b[0m \u001b[0mproccessedData\u001b[0m\u001b[0;34m(\u001b[0m\u001b[0;34m)\u001b[0m\u001b[0;34m:\u001b[0m\u001b[0;34m\u001b[0m\u001b[0;34m\u001b[0m\u001b[0m\n\u001b[0m\u001b[1;32m      2\u001b[0m     \u001b[0mdata\u001b[0m\u001b[0;34m\u001b[0m\u001b[0;34m\u001b[0m\u001b[0m\n\u001b[1;32m      3\u001b[0m \u001b[0;34m\u001b[0m\u001b[0m\n",
      "\u001b[0;32m<ipython-input-90-8501cd6b8671>\u001b[0m in \u001b[0;36mproccessedData\u001b[0;34m()\u001b[0m\n\u001b[1;32m      2\u001b[0m     \u001b[0mcount\u001b[0m \u001b[0;34m=\u001b[0m \u001b[0;36m0\u001b[0m\u001b[0;34m\u001b[0m\u001b[0;34m\u001b[0m\u001b[0m\n\u001b[1;32m      3\u001b[0m \u001b[0;34m\u001b[0m\u001b[0m\n\u001b[0;32m----> 4\u001b[0;31m     \u001b[0;32mfor\u001b[0m \u001b[0mwindow\u001b[0m \u001b[0;32min\u001b[0m \u001b[0mbuffer\u001b[0m\u001b[0;34m(\u001b[0m\u001b[0;34m)\u001b[0m\u001b[0;34m:\u001b[0m\u001b[0;34m\u001b[0m\u001b[0;34m\u001b[0m\u001b[0m\n\u001b[0m\u001b[1;32m      5\u001b[0m         \u001b[0mcount\u001b[0m \u001b[0;34m+=\u001b[0m \u001b[0;36m1\u001b[0m\u001b[0;34m\u001b[0m\u001b[0;34m\u001b[0m\u001b[0m\n\u001b[1;32m      6\u001b[0m         \u001b[0mprint\u001b[0m\u001b[0;34m(\u001b[0m\u001b[0mcount\u001b[0m\u001b[0;34m)\u001b[0m\u001b[0;34m\u001b[0m\u001b[0;34m\u001b[0m\u001b[0m\n",
      "\u001b[0;32m<ipython-input-89-cfd127b20a8e>\u001b[0m in \u001b[0;36mbuffer\u001b[0;34m(window_ms, hz)\u001b[0m\n\u001b[1;32m     14\u001b[0m         \u001b[0;32mfor\u001b[0m \u001b[0mraw_data\u001b[0m \u001b[0;32min\u001b[0m \u001b[0mrawDataFeed\u001b[0m\u001b[0;34m(\u001b[0m\u001b[0;34m)\u001b[0m\u001b[0;34m:\u001b[0m\u001b[0;34m\u001b[0m\u001b[0;34m\u001b[0m\u001b[0m\n\u001b[1;32m     15\u001b[0m             \u001b[0;32mfor\u001b[0m \u001b[0mi\u001b[0m \u001b[0;32min\u001b[0m \u001b[0mrange\u001b[0m\u001b[0;34m(\u001b[0m\u001b[0;36m1024\u001b[0m\u001b[0;34m)\u001b[0m\u001b[0;34m:\u001b[0m        \u001b[0;31m# we assume the first 1024 points of hte data feed are the electrodes\u001b[0m\u001b[0;34m\u001b[0m\u001b[0;34m\u001b[0m\u001b[0m\n\u001b[0;32m---> 16\u001b[0;31m                 \u001b[0mdata\u001b[0m\u001b[0;34m[\u001b[0m\u001b[0mi\u001b[0m\u001b[0;34m]\u001b[0m\u001b[0;34m.\u001b[0m\u001b[0mappend\u001b[0m\u001b[0;34m(\u001b[0m \u001b[0mraw_data\u001b[0m\u001b[0;34m[\u001b[0m\u001b[0mi\u001b[0m\u001b[0;34m]\u001b[0m \u001b[0;34m)\u001b[0m\u001b[0;34m\u001b[0m\u001b[0;34m\u001b[0m\u001b[0m\n\u001b[0m\u001b[1;32m     17\u001b[0m         \u001b[0;32myield\u001b[0m \u001b[0mdata\u001b[0m\u001b[0;34m\u001b[0m\u001b[0;34m\u001b[0m\u001b[0m\n",
      "\u001b[0;31mKeyboardInterrupt\u001b[0m: "
     ]
    }
   ],
   "source": [
    "for data in proccessedData():\n",
    "    data\n",
    "    "
   ]
  },
  {
   "cell_type": "code",
   "execution_count": 127,
   "id": "a6f39ad8",
   "metadata": {},
   "outputs": [
    {
     "name": "stdout",
     "output_type": "stream",
     "text": [
      "40\n"
     ]
    }
   ],
   "source": [
    "start= round(time.time())\n",
    "count = 0\n",
    "#for i in rawDataFeed():\n",
    "for i in buffer():\n",
    "    count += 1\n",
    "end= round(time.time())\n",
    "print(end-start)"
   ]
  },
  {
   "cell_type": "code",
   "execution_count": 129,
   "id": "4a9b9067",
   "metadata": {},
   "outputs": [
    {
     "data": {
      "text/plain": [
       "1024"
      ]
     },
     "execution_count": 129,
     "metadata": {},
     "output_type": "execute_result"
    }
   ],
   "source": [
    "len(i)"
   ]
  },
  {
   "cell_type": "code",
   "execution_count": 131,
   "id": "56ff768a",
   "metadata": {},
   "outputs": [
    {
     "data": {
      "text/plain": [
       "5000"
      ]
     },
     "execution_count": 131,
     "metadata": {},
     "output_type": "execute_result"
    }
   ],
   "source": [
    "len(i[1])"
   ]
  },
  {
   "cell_type": "code",
   "execution_count": null,
   "id": "e8dc176b",
   "metadata": {},
   "outputs": [],
   "source": []
  },
  {
   "cell_type": "code",
   "execution_count": 111,
   "id": "a99d117c",
   "metadata": {},
   "outputs": [
    {
     "data": {
      "text/plain": [
       "200000"
      ]
     },
     "execution_count": 111,
     "metadata": {},
     "output_type": "execute_result"
    }
   ],
   "source": [
    "count"
   ]
  },
  {
   "cell_type": "code",
   "execution_count": 106,
   "id": "fe34ede7",
   "metadata": {},
   "outputs": [
    {
     "data": {
      "text/plain": [
       "1639100014"
      ]
     },
     "execution_count": 106,
     "metadata": {},
     "output_type": "execute_result"
    }
   ],
   "source": []
  },
  {
   "cell_type": "code",
   "execution_count": 72,
   "id": "a239a99c",
   "metadata": {},
   "outputs": [
    {
     "data": {
      "text/plain": [
       "40"
      ]
     },
     "execution_count": 72,
     "metadata": {},
     "output_type": "execute_result"
    }
   ],
   "source": [
    "4 * 10"
   ]
  },
  {
   "cell_type": "code",
   "execution_count": null,
   "id": "551ebed8",
   "metadata": {},
   "outputs": [],
   "source": []
  },
  {
   "cell_type": "markdown",
   "id": "22c8e445",
   "metadata": {},
   "source": [
    "## <font color=\"brown\">Scratch Paper"
   ]
  },
  {
   "cell_type": "code",
   "execution_count": 38,
   "id": "3d7fd26e",
   "metadata": {},
   "outputs": [],
   "source": [
    "window_ms=250\n",
    "record_length_s=10"
   ]
  },
  {
   "cell_type": "code",
   "execution_count": 41,
   "id": "61cfe94e",
   "metadata": {},
   "outputs": [
    {
     "data": {
      "text/plain": [
       "40"
      ]
     },
     "execution_count": 41,
     "metadata": {},
     "output_type": "execute_result"
    }
   ],
   "source": [
    "round(record_length_s * 1000 / window_ms)"
   ]
  },
  {
   "cell_type": "code",
   "execution_count": 70,
   "id": "17db3460",
   "metadata": {},
   "outputs": [
    {
     "ename": "NameError",
     "evalue": "name 'frame' is not defined",
     "output_type": "error",
     "traceback": [
      "\u001b[0;31m---------------------------------------------------------------------------\u001b[0m",
      "\u001b[0;31mNameError\u001b[0m                                 Traceback (most recent call last)",
      "\u001b[0;32m<ipython-input-70-07a535307e97>\u001b[0m in \u001b[0;36m<module>\u001b[0;34m\u001b[0m\n\u001b[0;32m----> 1\u001b[0;31m \u001b[0mframe\u001b[0m\u001b[0;34m\u001b[0m\u001b[0;34m\u001b[0m\u001b[0m\n\u001b[0m",
      "\u001b[0;31mNameError\u001b[0m: name 'frame' is not defined"
     ]
    }
   ],
   "source": [
    "frame"
   ]
  },
  {
   "cell_type": "code",
   "execution_count": 69,
   "id": "af189178",
   "metadata": {},
   "outputs": [],
   "source": []
  },
  {
   "cell_type": "code",
   "execution_count": 64,
   "id": "1dda66d5",
   "metadata": {},
   "outputs": [
    {
     "data": {
      "text/plain": [
       "1024"
      ]
     },
     "execution_count": 64,
     "metadata": {},
     "output_type": "execute_result"
    }
   ],
   "source": [
    "len(data)"
   ]
  },
  {
   "cell_type": "code",
   "execution_count": 67,
   "id": "91baaf3d",
   "metadata": {},
   "outputs": [
    {
     "data": {
      "text/plain": [
       "[[5], [], [], []]"
      ]
     },
     "execution_count": 67,
     "metadata": {},
     "output_type": "execute_result"
    }
   ],
   "source": [
    "data[0:4]"
   ]
  },
  {
   "cell_type": "code",
   "execution_count": null,
   "id": "eb349e00",
   "metadata": {},
   "outputs": [],
   "source": []
  },
  {
   "cell_type": "code",
   "execution_count": null,
   "id": "1ba60e93",
   "metadata": {},
   "outputs": [],
   "source": []
  },
  {
   "cell_type": "code",
   "execution_count": null,
   "id": "c10af27d",
   "metadata": {},
   "outputs": [],
   "source": []
  },
  {
   "cell_type": "code",
   "execution_count": null,
   "id": "0154c77c",
   "metadata": {},
   "outputs": [],
   "source": []
  },
  {
   "cell_type": "code",
   "execution_count": null,
   "id": "7bae9577",
   "metadata": {},
   "outputs": [],
   "source": []
  },
  {
   "cell_type": "code",
   "execution_count": null,
   "id": "2aa2613e",
   "metadata": {},
   "outputs": [],
   "source": []
  },
  {
   "cell_type": "code",
   "execution_count": null,
   "id": "a973e5fd",
   "metadata": {},
   "outputs": [],
   "source": []
  }
 ],
 "metadata": {
  "hide_input": false,
  "kernelspec": {
   "display_name": "Python 3",
   "language": "python",
   "name": "python3"
  },
  "language_info": {
   "codemirror_mode": {
    "name": "ipython",
    "version": 3
   },
   "file_extension": ".py",
   "mimetype": "text/x-python",
   "name": "python",
   "nbconvert_exporter": "python",
   "pygments_lexer": "ipython3",
   "version": "3.9.5"
  },
  "toc": {
   "base_numbering": 1,
   "nav_menu": {},
   "number_sections": false,
   "sideBar": true,
   "skip_h1_title": false,
   "title_cell": "Table of Contents",
   "title_sidebar": "Contents",
   "toc_cell": false,
   "toc_position": {},
   "toc_section_display": true,
   "toc_window_display": false
  }
 },
 "nbformat": 4,
 "nbformat_minor": 5
}
