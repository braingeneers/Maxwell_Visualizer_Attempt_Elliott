{
 "cells": [
  {
   "cell_type": "markdown",
   "id": "b7bb6394",
   "metadata": {},
   "source": [
    "<font color=\"magenta\" size=7><i>Maxwell Display"
   ]
  },
  {
   "cell_type": "markdown",
   "id": "27c1d325",
   "metadata": {},
   "source": [
    "This notebooks creates the display for viewing electrodes on the maxwell."
   ]
  },
  {
   "cell_type": "markdown",
   "id": "83dd63f3",
   "metadata": {},
   "source": [
    "**References**\n",
    "\n",
    "* [HTML Canvas JS](https://developer.mozilla.org/en-US/docs/Web/API/CanvasRenderingContext2D/fillStyle)\n",
    "* [HTML Canvas JS - 2](https://developer.mozilla.org/en-US/docs/Web/API/Canvas_API/Tutorial/Applying_styles_and_colors)\n"
   ]
  },
  {
   "cell_type": "markdown",
   "id": "0be3b6be",
   "metadata": {},
   "source": [
    "# <font color=\"gray\">Set Up Notebook"
   ]
  },
  {
   "cell_type": "markdown",
   "id": "c6b857e6",
   "metadata": {},
   "source": [
    "## <font color=\"gray\"> Notes"
   ]
  },
  {
   "cell_type": "markdown",
   "id": "ea653e8d",
   "metadata": {},
   "source": [
    "There are 26400 electrodes on the MaxOne arranged in a $220\\times120$ grid. Below we sho how the electrodes are numberd on the 4 corners of the HTML canvas grid."
   ]
  },
  {
   "cell_type": "markdown",
   "id": "c7d6b852",
   "metadata": {
    "cell_style": "split"
   },
   "source": [
    "Top Left:0\n",
    "\n",
    "Bottom Left: 26180"
   ]
  },
  {
   "cell_type": "markdown",
   "id": "f6bd1c96",
   "metadata": {
    "cell_style": "split"
   },
   "source": [
    "Top Right: 219\n",
    "\n",
    "Bottom Right: 26399"
   ]
  },
  {
   "cell_type": "markdown",
   "id": "4814cdf4",
   "metadata": {},
   "source": [
    "The html canvas is created as a `width=\"2200\"height=\"1200\"` object with each electrode be represented as a 10x10 square"
   ]
  },
  {
   "cell_type": "markdown",
   "id": "1735a16c",
   "metadata": {},
   "source": [
    "max right canvas: 2190 \n",
    "\n",
    "max bottom canvas: 1190"
   ]
  },
  {
   "cell_type": "code",
   "execution_count": 70,
   "id": "275169dd",
   "metadata": {},
   "outputs": [],
   "source": [
    "x = 5\n",
    "y = 5"
   ]
  },
  {
   "cell_type": "code",
   "execution_count": 71,
   "id": "f584e4df",
   "metadata": {},
   "outputs": [
    {
     "data": {
      "text/plain": [
       "440.0"
      ]
     },
     "execution_count": 71,
     "metadata": {},
     "output_type": "execute_result"
    }
   ],
   "source": [
    "2200/x"
   ]
  },
  {
   "cell_type": "code",
   "execution_count": 72,
   "id": "1bf5d273",
   "metadata": {},
   "outputs": [
    {
     "data": {
      "text/plain": [
       "240.0"
      ]
     },
     "execution_count": 72,
     "metadata": {},
     "output_type": "execute_result"
    }
   ],
   "source": [
    "1200/y"
   ]
  },
  {
   "cell_type": "code",
   "execution_count": 73,
   "id": "f393e674",
   "metadata": {},
   "outputs": [
    {
     "name": "stdout",
     "output_type": "stream",
     "text": [
      "Rectangle Area\n",
      "AkA:number of recordings\n"
     ]
    },
    {
     "data": {
      "text/plain": [
       "25"
      ]
     },
     "execution_count": 73,
     "metadata": {},
     "output_type": "execute_result"
    }
   ],
   "source": [
    "print(\"Rectangle Area\")\n",
    "print(\"AkA:number of recordings\")\n",
    "x * y"
   ]
  },
  {
   "cell_type": "code",
   "execution_count": 74,
   "id": "2cf3cc0b",
   "metadata": {},
   "outputs": [
    {
     "name": "stdout",
     "output_type": "stream",
     "text": [
      "Electrodes per recording:\n"
     ]
    },
    {
     "data": {
      "text/plain": [
       "1056.0"
      ]
     },
     "execution_count": 74,
     "metadata": {},
     "output_type": "execute_result"
    }
   ],
   "source": [
    "print(\"Electrodes per recording:\")\n",
    "26400/x/y"
   ]
  },
  {
   "cell_type": "code",
   "execution_count": 77,
   "id": "83feaf9e",
   "metadata": {},
   "outputs": [
    {
     "data": {
      "text/plain": [
       "800"
      ]
     },
     "execution_count": 77,
     "metadata": {},
     "output_type": "execute_result"
    }
   ],
   "source": [
    "(1056-1024)*5 * 5"
   ]
  },
  {
   "cell_type": "markdown",
   "id": "a66760c2",
   "metadata": {},
   "source": [
    "## <font color=\"gray\"> Code"
   ]
  },
  {
   "cell_type": "markdown",
   "id": "64da1220",
   "metadata": {},
   "source": [
    "import packages"
   ]
  },
  {
   "cell_type": "code",
   "execution_count": null,
   "id": "0db85e22",
   "metadata": {},
   "outputs": [],
   "source": [
    "from IPython.display import HTML, display, Javascript, clear_output\n",
    "import ipywidgets as widgets\n",
    "\n",
    "#Javascript(\"\"\"\n",
    "#\"\"\")"
   ]
  },
  {
   "cell_type": "markdown",
   "id": "06a988a7",
   "metadata": {},
   "source": [
    "helper function for javascript"
   ]
  },
  {
   "cell_type": "code",
   "execution_count": null,
   "id": "b725f069",
   "metadata": {},
   "outputs": [],
   "source": [
    "def JS(text):\n",
    "    display(HTML(\"<script>\"+text+\"</script>\"))"
   ]
  },
  {
   "cell_type": "markdown",
   "id": "340b90b1",
   "metadata": {},
   "source": [
    "<font color=\"orange\">Once this notebook is done put this line of code at the end so that users know it ran correctly"
   ]
  },
  {
   "cell_type": "code",
   "execution_count": null,
   "id": "3d7b8665",
   "metadata": {},
   "outputs": [],
   "source": [
    "print(\"loaded functions in `display`\")"
   ]
  },
  {
   "cell_type": "markdown",
   "id": "9e18963a",
   "metadata": {},
   "source": [
    "# <font color=\"blue\"> Core Functions"
   ]
  },
  {
   "cell_type": "markdown",
   "id": "baf32aca",
   "metadata": {},
   "source": [
    "## <font color=\"blue\">  Display Graph"
   ]
  },
  {
   "cell_type": "markdown",
   "id": "7d75782f",
   "metadata": {},
   "source": [
    "This function creates create an html canvas called `myCanvas`, which can be called by the javascript."
   ]
  },
  {
   "cell_type": "code",
   "execution_count": null,
   "id": "60cefe24",
   "metadata": {},
   "outputs": [],
   "source": [
    "def graphStart(): \n",
    "    # Create HTML Canvas\n",
    "    cmos_graph =widgets.HTML(\"\"\"\n",
    "    <div class=\"row\">\n",
    "        <div id=\"canvasBox\" class=\"col-xs-12\">\n",
    "            <canvas  id=\"myCanvas\" width=\"2200\"height=\"1200\" style=\" width:100%; height:auto;border:1px solid #000000;\"></canvas>\n",
    "        </div>\n",
    "    </div>\n",
    "    \"\"\") # previously in html: col-md-offset-2 col-md-8 \n",
    "    display(cmos_graph)\n",
    "    \n",
    "    # Add a Javascript controller or the canvas\n",
    "    JS(\"\"\"\n",
    "    var c = document.getElementById('myCanvas');\n",
    "    var ctx = c.getContext('2d');\n",
    "    \"\"\")"
   ]
  },
  {
   "cell_type": "markdown",
   "id": "e3f3096c",
   "metadata": {},
   "source": [
    "## <font color=\"blue\"> Color Electrode"
   ]
  },
  {
   "cell_type": "markdown",
   "id": "bee41ae4",
   "metadata": {},
   "source": [
    "Given an electrode and an intensity we want to color that electrode"
   ]
  },
  {
   "cell_type": "code",
   "execution_count": null,
   "id": "ca658934",
   "metadata": {},
   "outputs": [],
   "source": [
    "def colorElectrode( electrode, intensity, maxIntensity=10):\n",
    "    x = electrode//220 * 10\n",
    "    y = electrode%220 * 10\n",
    "    \n",
    "    #print(maxIntensity)\n",
    "    JS(\"\"\"\n",
    "        var maxIntensity = \"\"\"+str(maxIntensity)+\"\"\";\n",
    "        var intensity = \"\"\"+str(intensity)+\"\"\";\n",
    "        var red = Math.floor( 255 * intensity/maxIntensity );\n",
    "        var blue = Math.floor( 255 * (1 - intensity/maxIntensity) );\n",
    "        ctx.fillStyle = 'rgb('+red +',0,'+blue+')';\n",
    "\n",
    "        ctx.fillRect(\"\"\"+str(y)+\"\"\", \"\"\"+str(x)+\"\"\",  10 , 10);  // (x1,y1,x2,y2)\n",
    "    \"\"\")\n",
    "    "
   ]
  },
  {
   "cell_type": "markdown",
   "id": "f924422a",
   "metadata": {},
   "source": [
    "## <font color=\"blue\"> Color Electrodes"
   ]
  },
  {
   "cell_type": "markdown",
   "id": "f082d127",
   "metadata": {},
   "source": [
    "The above code will crash if we want to color all electrodes, for that, run this code. Electrodes is a list of intensitites represented as integeres."
   ]
  },
  {
   "cell_type": "code",
   "execution_count": null,
   "id": "fd9c59ed",
   "metadata": {},
   "outputs": [],
   "source": [
    "def colorElectrodes( intensities, maxIntensity=10):\n",
    "    #print(maxIntensity)\n",
    "    JS(\"\"\"\n",
    "        var intensities = \"\"\"+str(intensities)+\"\"\";\n",
    "        for (let i = 0; i < 26400; i++) {\n",
    "        \n",
    "            var maxIntensity = \"\"\"+str(maxIntensity)+\"\"\";\n",
    "            var intensity = intensities[i];\n",
    "            var red = Math.floor( 255 * intensity/maxIntensity );\n",
    "            var blue = Math.floor( 255 * (1 - intensity/maxIntensity) );\n",
    "            ctx.fillStyle = 'rgb('+red +',0,'+blue+')';\n",
    "            \n",
    "            var x = Math.floor(i/220) * 10;\n",
    "            var y = i%220 * 10;\n",
    "            ctx.fillRect( y, x, 10, 10);  // (x1,y1,x2,y2)\n",
    "        }\n",
    "    \"\"\")"
   ]
  },
  {
   "cell_type": "markdown",
   "id": "0ff2acaf",
   "metadata": {},
   "source": [
    "## <font color=\"brown\">Test Functions"
   ]
  },
  {
   "cell_type": "markdown",
   "id": "86c736ea",
   "metadata": {},
   "source": [
    "Here we test that the above function ascually work. Run the `graphStart()` functon to create the html canvas. Then  run one of the other cells."
   ]
  },
  {
   "cell_type": "code",
   "execution_count": null,
   "id": "740684dc",
   "metadata": {},
   "outputs": [],
   "source": [
    "#graphStart()"
   ]
  },
  {
   "cell_type": "code",
   "execution_count": null,
   "id": "e84320a6",
   "metadata": {},
   "outputs": [],
   "source": [
    "#import numpy as np\n",
    "#checkit = np.arange(220)/219*10\n",
    "#checkit2 = checkit.tolist()*120\n",
    "#intensities = checkit2\n",
    "#colorElectrodes(intensities)"
   ]
  },
  {
   "cell_type": "code",
   "execution_count": null,
   "id": "e4dd52d7",
   "metadata": {},
   "outputs": [],
   "source": [
    "#colorElectrode(0,10)"
   ]
  },
  {
   "cell_type": "code",
   "execution_count": null,
   "id": "ae4929bb",
   "metadata": {},
   "outputs": [],
   "source": [
    "#intensities = [9]* 26400\n",
    "#colorElectrodes(intensities)"
   ]
  },
  {
   "cell_type": "code",
   "execution_count": null,
   "id": "d21647b3",
   "metadata": {},
   "outputs": [],
   "source": []
  },
  {
   "cell_type": "markdown",
   "id": "bc527ac7",
   "metadata": {},
   "source": [
    "# <font color=\"brown\"> Scratch Paper"
   ]
  },
  {
   "cell_type": "code",
   "execution_count": null,
   "id": "ec24d10a",
   "metadata": {
    "scrolled": false
   },
   "outputs": [],
   "source": [
    "#graphStart()"
   ]
  },
  {
   "cell_type": "code",
   "execution_count": null,
   "id": "2d6b870f",
   "metadata": {
    "code_folding": []
   },
   "outputs": [],
   "source": [
    "#%%html\n",
    "#<div class=\"row\">\n",
    "#    <!-- canvas that shows racetrack -->\n",
    "##    <div id=\"canvasBox\" class=\"col-xs-12 col-md-offset-2 col-md-8\">\n",
    "#       <canvas  id=\"myCanvas\" width=\"10\"height=\"5\" style=\" width:100%; height:auto;border:1px solid #000000;\"></canvas>\n",
    "#    </div>\n",
    "#</div>"
   ]
  },
  {
   "cell_type": "code",
   "execution_count": null,
   "id": "5336614e",
   "metadata": {},
   "outputs": [],
   "source": [
    "# %%javascript\n",
    "#var c = document.getElementById('myCanvas');\n",
    "#var ctx = c.getContext('2d');\n",
    "\n",
    "#var maxIntensity = 10\n",
    "#var intensity = 10\n",
    "#var red = Math.floor( 255 * intensity/maxIntensity )\n",
    "#var blue = Math.floor( 255 * (1 - intensity/maxIntensity) )\n",
    "#ctx.fillStyle = 'rgb('+red +',0,'+blue+')';\n",
    "\n",
    "#ctx.fillRect(0, 0,  10 , 10);  // (x1,y1,x2,y2)\n",
    "\n"
   ]
  },
  {
   "cell_type": "code",
   "execution_count": null,
   "id": "4373b24d",
   "metadata": {},
   "outputs": [],
   "source": []
  }
 ],
 "metadata": {
  "hide_input": false,
  "kernelspec": {
   "display_name": "Python 3",
   "language": "python",
   "name": "python3"
  },
  "language_info": {
   "codemirror_mode": {
    "name": "ipython",
    "version": 3
   },
   "file_extension": ".py",
   "mimetype": "text/x-python",
   "name": "python",
   "nbconvert_exporter": "python",
   "pygments_lexer": "ipython3",
   "version": "3.9.5"
  },
  "toc": {
   "base_numbering": 1,
   "nav_menu": {},
   "number_sections": true,
   "sideBar": true,
   "skip_h1_title": false,
   "title_cell": "Table of Contents",
   "title_sidebar": "Contents",
   "toc_cell": false,
   "toc_position": {},
   "toc_section_display": true,
   "toc_window_display": false
  },
  "widgets": {
   "application/vnd.jupyter.widget-state+json": {
    "state": {
     "013187a4b45c41928d731a067561754f": {
      "model_module": "@jupyter-widgets/controls",
      "model_module_version": "1.5.0",
      "model_name": "DescriptionStyleModel",
      "state": {
       "description_width": ""
      }
     },
     "02941130733e48a6b0a610120a6c3f6c": {
      "model_module": "@jupyter-widgets/base",
      "model_module_version": "1.2.0",
      "model_name": "LayoutModel",
      "state": {}
     },
     "0771f02e0e1946c38faf23352fb0ced8": {
      "model_module": "@jupyter-widgets/controls",
      "model_module_version": "1.5.0",
      "model_name": "HTMLModel",
      "state": {
       "layout": "IPY_MODEL_b3e2cd888cb84454b0d725f10361d91d",
       "style": "IPY_MODEL_d970bc9815ed4bfcb04405c0208daae1",
       "value": "\n    <div class=\"row\">\n        <div id=\"canvasBox\" class=\"col-xs-12\">\n            <canvas  id=\"myCanvas\" width=\"2200\"height=\"1200\" style=\" width:100%; height:auto;border:1px solid #000000;\"></canvas>\n        </div>\n    </div>\n    "
      }
     },
     "0a87bd00d5f840b2a851aded67e551e0": {
      "model_module": "@jupyter-widgets/controls",
      "model_module_version": "1.5.0",
      "model_name": "DescriptionStyleModel",
      "state": {
       "description_width": ""
      }
     },
     "0cda2d8b1bf34ef88f5fc1924ef3e161": {
      "model_module": "@jupyter-widgets/controls",
      "model_module_version": "1.5.0",
      "model_name": "HTMLModel",
      "state": {
       "layout": "IPY_MODEL_328f61dfe1904aa2b3783900fceb8c64",
       "style": "IPY_MODEL_292298502efd46358cf22bb5c6a82f51",
       "value": "\n    <div class=\"row\">\n        <div id=\"canvasBox\" class=\"col-xs-12 col-md-offset-2 col-md-8\">\n            <canvas  id=\"myCanvas\" width=\"10\"height=\"5\" style=\" width:100%; height:auto;border:1px solid #000000;\"></canvas>\n        </div>\n    </div>\n    "
      }
     },
     "0e741cdd23644e04b60e71c841f8cf4b": {
      "model_module": "@jupyter-widgets/controls",
      "model_module_version": "1.5.0",
      "model_name": "HTMLModel",
      "state": {
       "layout": "IPY_MODEL_c139a6268e5a46b4a2941aaf7ab1baa4",
       "style": "IPY_MODEL_0a87bd00d5f840b2a851aded67e551e0",
       "value": "\n    <div class=\"row\">\n        <div id=\"canvasBox\" class=\"col-xs-12\">\n            <canvas  id=\"myCanvas\" width=\"2200\"height=\"1200\" style=\" width:100%; height:auto;border:1px solid #000000;\"></canvas>\n        </div>\n    </div>\n    "
      }
     },
     "1001a2ae8161410c917ba5c73a611f2b": {
      "model_module": "@jupyter-widgets/controls",
      "model_module_version": "1.5.0",
      "model_name": "HTMLModel",
      "state": {
       "layout": "IPY_MODEL_71d7b54ccec5436e9130095878cf4b11",
       "style": "IPY_MODEL_b6c702cdeb194ee0a241dd48b3001224",
       "value": "\n    <div class=\"row\">\n        <div id=\"canvasBox\" class=\"col-xs-12\">\n            <canvas  id=\"myCanvas\" width=\"2200\"height=\"1200\" style=\" width:100%; height:auto;border:1px solid #000000;\"></canvas>\n        </div>\n    </div>\n    "
      }
     },
     "1030e5f91e454bf19567330174953ca6": {
      "model_module": "@jupyter-widgets/controls",
      "model_module_version": "1.5.0",
      "model_name": "DescriptionStyleModel",
      "state": {
       "description_width": ""
      }
     },
     "15e8f3127c6a42f0a9145a7adeb5ada2": {
      "model_module": "@jupyter-widgets/controls",
      "model_module_version": "1.5.0",
      "model_name": "DescriptionStyleModel",
      "state": {
       "description_width": ""
      }
     },
     "18ab96346b334c7dbfc73efe7a7fba66": {
      "model_module": "@jupyter-widgets/controls",
      "model_module_version": "1.5.0",
      "model_name": "HTMLModel",
      "state": {
       "layout": "IPY_MODEL_5ac17cf4b4034e8ba41f9aa198f3edbc",
       "style": "IPY_MODEL_759d8fef441442028a27bb29741191b5",
       "value": "\n    <div class=\"row\">\n        <div id=\"canvasBox\" class=\"col-xs-12 col-md-offset-2 col-md-8\">\n            <canvas  id=\"myCanvas\" width=\"100\"height=\"50\" style=\" width:100%; height:auto;border:1px solid #000000;\"></canvas>\n        </div>\n    </div>\n    "
      }
     },
     "292298502efd46358cf22bb5c6a82f51": {
      "model_module": "@jupyter-widgets/controls",
      "model_module_version": "1.5.0",
      "model_name": "DescriptionStyleModel",
      "state": {
       "description_width": ""
      }
     },
     "2bb458d9d11e40328d2facb7b6914e29": {
      "model_module": "@jupyter-widgets/controls",
      "model_module_version": "1.5.0",
      "model_name": "HTMLModel",
      "state": {
       "layout": "IPY_MODEL_331da07528c540758bba30d081b22eaf",
       "style": "IPY_MODEL_5ec77023c6f6467b9ed59f64971d1360",
       "value": "\n    <div class=\"row\">\n        <div id=\"canvasBox\" class=\"col-xs-12\">\n            <canvas  id=\"myCanvas\" width=\"2200\"height=\"1200\" style=\" width:100%; height:auto;border:1px solid #000000;\"></canvas>\n        </div>\n    </div>\n    "
      }
     },
     "303515eb1e4e40ddad54866d80b7610f": {
      "model_module": "@jupyter-widgets/controls",
      "model_module_version": "1.5.0",
      "model_name": "HTMLModel",
      "state": {
       "layout": "IPY_MODEL_757a30119feb4c218e54cdafa772c54c",
       "style": "IPY_MODEL_df5fd47a914f4809af3e95c3fa4f8eda",
       "value": "\n    <div class=\"row\">\n        <div id=\"canvasBox\" class=\"col-xs-12\">\n            <canvas  id=\"myCanvas\" width=\"2200\"height=\"1200\" style=\" width:100%; height:auto;border:1px solid #000000;\"></canvas>\n        </div>\n    </div>\n    "
      }
     },
     "30c1075fcc284a998b897941af37cdf0": {
      "model_module": "@jupyter-widgets/controls",
      "model_module_version": "1.5.0",
      "model_name": "HTMLModel",
      "state": {
       "layout": "IPY_MODEL_7681f0f098a44fed8b9316942202ac4c",
       "style": "IPY_MODEL_325cede04b7e4e18ae0b4d5e78d46415",
       "value": "\n    <div class=\"row\">\n        <div id=\"canvasBox\" class=\"col-xs-12\">\n            <canvas  id=\"myCanvas\" width=\"2200\"height=\"1200\" style=\" width:100%; height:auto;border:1px solid #000000;\"></canvas>\n        </div>\n    </div>\n    "
      }
     },
     "325cede04b7e4e18ae0b4d5e78d46415": {
      "model_module": "@jupyter-widgets/controls",
      "model_module_version": "1.5.0",
      "model_name": "DescriptionStyleModel",
      "state": {
       "description_width": ""
      }
     },
     "328f61dfe1904aa2b3783900fceb8c64": {
      "model_module": "@jupyter-widgets/base",
      "model_module_version": "1.2.0",
      "model_name": "LayoutModel",
      "state": {}
     },
     "3294a07021234c388c45ebda881f6b2a": {
      "model_module": "@jupyter-widgets/controls",
      "model_module_version": "1.5.0",
      "model_name": "DescriptionStyleModel",
      "state": {
       "description_width": ""
      }
     },
     "331da07528c540758bba30d081b22eaf": {
      "model_module": "@jupyter-widgets/base",
      "model_module_version": "1.2.0",
      "model_name": "LayoutModel",
      "state": {}
     },
     "3601ceb9e7d146f9bf01b8d8dcbb9e63": {
      "model_module": "@jupyter-widgets/controls",
      "model_module_version": "1.5.0",
      "model_name": "HTMLModel",
      "state": {
       "layout": "IPY_MODEL_cf937478c0fe475cbd62f6a9238e0d3c",
       "style": "IPY_MODEL_531124f256aa441ca7900f6da3cdd074",
       "value": "\n    <div class=\"row\">\n        <div id=\"canvasBox\" class=\"col-xs-12\">\n            <canvas  id=\"myCanvas\" width=\"100\"height=\"50\" style=\" width:100%; height:auto;border:1px solid #000000;\"></canvas>\n        </div>\n    </div>\n    "
      }
     },
     "3dbc5ff4375f43d9a5044f226fdf4462": {
      "model_module": "@jupyter-widgets/base",
      "model_module_version": "1.2.0",
      "model_name": "LayoutModel",
      "state": {}
     },
     "3dc3bf6bfbec4e898430e20b5c3d1f23": {
      "model_module": "@jupyter-widgets/controls",
      "model_module_version": "1.5.0",
      "model_name": "HTMLModel",
      "state": {
       "layout": "IPY_MODEL_3dbc5ff4375f43d9a5044f226fdf4462",
       "style": "IPY_MODEL_3294a07021234c388c45ebda881f6b2a",
       "value": "\n    <div class=\"row\">\n        <div id=\"canvasBox\" class=\"col-xs-12\">\n            <canvas  id=\"myCanvas\" width=\"2200\"height=\"1200\" style=\" width:100%; height:auto;border:1px solid #000000;\"></canvas>\n        </div>\n    </div>\n    "
      }
     },
     "406d39c2be8845a180534cb4415a4d67": {
      "model_module": "@jupyter-widgets/controls",
      "model_module_version": "1.5.0",
      "model_name": "HTMLModel",
      "state": {
       "layout": "IPY_MODEL_4d0f3ea4d9ee4f3e8f526556a44adfef",
       "style": "IPY_MODEL_c6378c7dbbc04e2a9b29a9a19570fbae",
       "value": "\n    <div class=\"row\">\n        <div id=\"canvasBox\" class=\"col-xs-12\">\n            <canvas  id=\"myCanvas\" width=\"2200\"height=\"1200\" style=\" width:100%; height:auto;border:1px solid #000000;\"></canvas>\n        </div>\n    </div>\n    "
      }
     },
     "40db9dc031a448fba97f38b0ef691421": {
      "model_module": "@jupyter-widgets/controls",
      "model_module_version": "1.5.0",
      "model_name": "DescriptionStyleModel",
      "state": {
       "description_width": ""
      }
     },
     "496929a8cc06461c900339bdbae731d8": {
      "model_module": "@jupyter-widgets/base",
      "model_module_version": "1.2.0",
      "model_name": "LayoutModel",
      "state": {}
     },
     "4d0f3ea4d9ee4f3e8f526556a44adfef": {
      "model_module": "@jupyter-widgets/base",
      "model_module_version": "1.2.0",
      "model_name": "LayoutModel",
      "state": {}
     },
     "4e947826aa6542a3b22f7fcf30170733": {
      "model_module": "@jupyter-widgets/controls",
      "model_module_version": "1.5.0",
      "model_name": "HTMLModel",
      "state": {
       "layout": "IPY_MODEL_8720254aa53249f6a99f18884a0e017a",
       "style": "IPY_MODEL_86033d53c0bf4d538839d0e5fd130b18",
       "value": "\n    <div class=\"row\">\n        <div id=\"canvasBox\" class=\"col-xs-12 col-md-offset-2 col-md-8\">\n            <canvas  id=\"myCanvas\" width=\"100\"height=\"50\" style=\" width:100%; height:auto;border:1px solid #000000;\"></canvas>\n        </div>\n    </div>\n    "
      }
     },
     "517e6a42dcd942f7881399961ec2a073": {
      "model_module": "@jupyter-widgets/base",
      "model_module_version": "1.2.0",
      "model_name": "LayoutModel",
      "state": {}
     },
     "531124f256aa441ca7900f6da3cdd074": {
      "model_module": "@jupyter-widgets/controls",
      "model_module_version": "1.5.0",
      "model_name": "DescriptionStyleModel",
      "state": {
       "description_width": ""
      }
     },
     "5ac17cf4b4034e8ba41f9aa198f3edbc": {
      "model_module": "@jupyter-widgets/base",
      "model_module_version": "1.2.0",
      "model_name": "LayoutModel",
      "state": {}
     },
     "5ec77023c6f6467b9ed59f64971d1360": {
      "model_module": "@jupyter-widgets/controls",
      "model_module_version": "1.5.0",
      "model_name": "DescriptionStyleModel",
      "state": {
       "description_width": ""
      }
     },
     "614b719e56cf40e1b26a1b17a8bf4df6": {
      "model_module": "@jupyter-widgets/controls",
      "model_module_version": "1.5.0",
      "model_name": "DescriptionStyleModel",
      "state": {
       "description_width": ""
      }
     },
     "71d7b54ccec5436e9130095878cf4b11": {
      "model_module": "@jupyter-widgets/base",
      "model_module_version": "1.2.0",
      "model_name": "LayoutModel",
      "state": {}
     },
     "757a30119feb4c218e54cdafa772c54c": {
      "model_module": "@jupyter-widgets/base",
      "model_module_version": "1.2.0",
      "model_name": "LayoutModel",
      "state": {}
     },
     "759d8fef441442028a27bb29741191b5": {
      "model_module": "@jupyter-widgets/controls",
      "model_module_version": "1.5.0",
      "model_name": "DescriptionStyleModel",
      "state": {
       "description_width": ""
      }
     },
     "7681f0f098a44fed8b9316942202ac4c": {
      "model_module": "@jupyter-widgets/base",
      "model_module_version": "1.2.0",
      "model_name": "LayoutModel",
      "state": {}
     },
     "7b6567d5d53e430fa6ada0efb28851ce": {
      "model_module": "@jupyter-widgets/base",
      "model_module_version": "1.2.0",
      "model_name": "LayoutModel",
      "state": {}
     },
     "7db9ca06aa054bda85026628216d4358": {
      "model_module": "@jupyter-widgets/controls",
      "model_module_version": "1.5.0",
      "model_name": "HTMLModel",
      "state": {
       "layout": "IPY_MODEL_95b667fe1e6a42f2b390aa303b414d75",
       "style": "IPY_MODEL_f6189631fc5147ee8cd248d4028fbfd1",
       "value": "\n    <div class=\"row\">\n        <!-- canvas that shows racetrack -->\n        <div id=\"canvasBox\" class=\"col-xs-12 col-md-offset-2 col-md-8\">\n            <canvas  id=\"myCanvas\" width=\"1000\"height=\"500\" style=\" width:100%; height:auto;border:1px solid #000000;\"></canvas>\n        </div>\n    </div>\n    "
      }
     },
     "7df49120e9b34fb6ac0e6ef961946efd": {
      "model_module": "@jupyter-widgets/controls",
      "model_module_version": "1.5.0",
      "model_name": "HTMLModel",
      "state": {
       "layout": "IPY_MODEL_02941130733e48a6b0a610120a6c3f6c",
       "style": "IPY_MODEL_c0c8d8d859414932be8a94e11a016e9e",
       "value": "\n    <div class=\"row\">\n        <div id=\"canvasBox\" class=\"col-xs-12\">\n            <canvas  id=\"myCanvas\" width=\"2200\"height=\"1200\" style=\" width:100%; height:auto;border:1px solid #000000;\"></canvas>\n        </div>\n    </div>\n    "
      }
     },
     "86033d53c0bf4d538839d0e5fd130b18": {
      "model_module": "@jupyter-widgets/controls",
      "model_module_version": "1.5.0",
      "model_name": "DescriptionStyleModel",
      "state": {
       "description_width": ""
      }
     },
     "8720254aa53249f6a99f18884a0e017a": {
      "model_module": "@jupyter-widgets/base",
      "model_module_version": "1.2.0",
      "model_name": "LayoutModel",
      "state": {}
     },
     "87fcac09be924d098857e96bd47ca66b": {
      "model_module": "@jupyter-widgets/controls",
      "model_module_version": "1.5.0",
      "model_name": "HTMLModel",
      "state": {
       "layout": "IPY_MODEL_f9482fbcea3b445281395e60b8384ec5",
       "style": "IPY_MODEL_1030e5f91e454bf19567330174953ca6",
       "value": "\n    <div class=\"row\">\n        <div id=\"canvasBox\" class=\"col-xs-12\">\n            <canvas  id=\"myCanvas\" width=\"2200\"height=\"1200\" style=\" width:100%; height:auto;border:1px solid #000000;\"></canvas>\n        </div>\n    </div>\n    "
      }
     },
     "95b667fe1e6a42f2b390aa303b414d75": {
      "model_module": "@jupyter-widgets/base",
      "model_module_version": "1.2.0",
      "model_name": "LayoutModel",
      "state": {}
     },
     "a862c19fef794386a2bd650904bdc04d": {
      "model_module": "@jupyter-widgets/controls",
      "model_module_version": "1.5.0",
      "model_name": "HTMLModel",
      "state": {
       "layout": "IPY_MODEL_e646e30fed564625b241a66a54d1d3bd",
       "style": "IPY_MODEL_013187a4b45c41928d731a067561754f",
       "value": "\n    <div class=\"row\">\n        <div id=\"canvasBox\" class=\"col-xs-12 col-md-offset-2 col-md-8\">\n            <canvas  id=\"myCanvas\" width=\"10\"height=\"5\" style=\" width:100%; height:auto;border:1px solid #000000;\"></canvas>\n        </div>\n    </div>\n    "
      }
     },
     "b3e2cd888cb84454b0d725f10361d91d": {
      "model_module": "@jupyter-widgets/base",
      "model_module_version": "1.2.0",
      "model_name": "LayoutModel",
      "state": {}
     },
     "b6c702cdeb194ee0a241dd48b3001224": {
      "model_module": "@jupyter-widgets/controls",
      "model_module_version": "1.5.0",
      "model_name": "DescriptionStyleModel",
      "state": {
       "description_width": ""
      }
     },
     "b859d49941b2494ab112c411578fa19b": {
      "model_module": "@jupyter-widgets/controls",
      "model_module_version": "1.5.0",
      "model_name": "DescriptionStyleModel",
      "state": {
       "description_width": ""
      }
     },
     "bd0c92a71824460f90b5ad8cb0e07d2b": {
      "model_module": "@jupyter-widgets/controls",
      "model_module_version": "1.5.0",
      "model_name": "HTMLModel",
      "state": {
       "layout": "IPY_MODEL_496929a8cc06461c900339bdbae731d8",
       "style": "IPY_MODEL_614b719e56cf40e1b26a1b17a8bf4df6",
       "value": "\n    <div class=\"row\">\n        <div id=\"canvasBox\" class=\"col-xs-12 col-md-offset-2 col-md-8\">\n            <canvas  id=\"myCanvas\" width=\"10\"height=\"50\" style=\" width:100%; height:auto;border:1px solid #000000;\"></canvas>\n        </div>\n    </div>\n    "
      }
     },
     "be115813cea441f6b8ef0578e76f6ea3": {
      "model_module": "@jupyter-widgets/base",
      "model_module_version": "1.2.0",
      "model_name": "LayoutModel",
      "state": {}
     },
     "c0c8d8d859414932be8a94e11a016e9e": {
      "model_module": "@jupyter-widgets/controls",
      "model_module_version": "1.5.0",
      "model_name": "DescriptionStyleModel",
      "state": {
       "description_width": ""
      }
     },
     "c139a6268e5a46b4a2941aaf7ab1baa4": {
      "model_module": "@jupyter-widgets/base",
      "model_module_version": "1.2.0",
      "model_name": "LayoutModel",
      "state": {}
     },
     "c6378c7dbbc04e2a9b29a9a19570fbae": {
      "model_module": "@jupyter-widgets/controls",
      "model_module_version": "1.5.0",
      "model_name": "DescriptionStyleModel",
      "state": {
       "description_width": ""
      }
     },
     "c8745c032d794f679d868abad33cfeb3": {
      "model_module": "@jupyter-widgets/controls",
      "model_module_version": "1.5.0",
      "model_name": "HTMLModel",
      "state": {
       "layout": "IPY_MODEL_517e6a42dcd942f7881399961ec2a073",
       "style": "IPY_MODEL_40db9dc031a448fba97f38b0ef691421",
       "value": "\n    <div class=\"row\">\n        <div id=\"canvasBox\" class=\"col-xs-12 col-md-offset-2 col-md-8\">\n            <canvas  id=\"myCanvas\" width=\"10\"height=\"5\" style=\" width:100%; height:auto;border:1px solid #000000;\"></canvas>\n        </div>\n    </div>\n    "
      }
     },
     "ccf19935eac4483cb9cc2435ed29e6b1": {
      "model_module": "@jupyter-widgets/controls",
      "model_module_version": "1.5.0",
      "model_name": "HTMLModel",
      "state": {
       "layout": "IPY_MODEL_7b6567d5d53e430fa6ada0efb28851ce",
       "style": "IPY_MODEL_15e8f3127c6a42f0a9145a7adeb5ada2",
       "value": "\n    <div class=\"row\">\n        <div id=\"canvasBox\" class=\"col-xs-12 col-md-offset-2 col-md-8\">\n            <canvas  id=\"myCanvas\" width=\"100\"height=\"50\" style=\" width:100%; height:auto;border:1px solid #000000;\"></canvas>\n        </div>\n    </div>\n    "
      }
     },
     "cf937478c0fe475cbd62f6a9238e0d3c": {
      "model_module": "@jupyter-widgets/base",
      "model_module_version": "1.2.0",
      "model_name": "LayoutModel",
      "state": {}
     },
     "d970bc9815ed4bfcb04405c0208daae1": {
      "model_module": "@jupyter-widgets/controls",
      "model_module_version": "1.5.0",
      "model_name": "DescriptionStyleModel",
      "state": {
       "description_width": ""
      }
     },
     "df5fd47a914f4809af3e95c3fa4f8eda": {
      "model_module": "@jupyter-widgets/controls",
      "model_module_version": "1.5.0",
      "model_name": "DescriptionStyleModel",
      "state": {
       "description_width": ""
      }
     },
     "e33b609e734646768a98c40c66d81314": {
      "model_module": "@jupyter-widgets/controls",
      "model_module_version": "1.5.0",
      "model_name": "HTMLModel",
      "state": {
       "layout": "IPY_MODEL_be115813cea441f6b8ef0578e76f6ea3",
       "style": "IPY_MODEL_b859d49941b2494ab112c411578fa19b",
       "value": "\n    <div class=\"row\">\n        <div id=\"canvasBox\" class=\"col-xs-12\">\n            <canvas  id=\"myCanvas\" width=\"2200\"height=\"1200\" style=\" width:100%; height:auto;border:1px solid #000000;\"></canvas>\n        </div>\n    </div>\n    "
      }
     },
     "e646e30fed564625b241a66a54d1d3bd": {
      "model_module": "@jupyter-widgets/base",
      "model_module_version": "1.2.0",
      "model_name": "LayoutModel",
      "state": {}
     },
     "f6189631fc5147ee8cd248d4028fbfd1": {
      "model_module": "@jupyter-widgets/controls",
      "model_module_version": "1.5.0",
      "model_name": "DescriptionStyleModel",
      "state": {
       "description_width": ""
      }
     },
     "f9482fbcea3b445281395e60b8384ec5": {
      "model_module": "@jupyter-widgets/base",
      "model_module_version": "1.2.0",
      "model_name": "LayoutModel",
      "state": {}
     }
    },
    "version_major": 2,
    "version_minor": 0
   }
  }
 },
 "nbformat": 4,
 "nbformat_minor": 5
}
