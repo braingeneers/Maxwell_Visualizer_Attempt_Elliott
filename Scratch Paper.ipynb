{
 "cells": [
  {
   "cell_type": "markdown",
   "id": "077ab4f9",
   "metadata": {},
   "source": [
    "# Start Recording "
   ]
  },
  {
   "cell_type": "markdown",
   "id": "6651f72b",
   "metadata": {},
   "source": [
    "General code"
   ]
  },
  {
   "cell_type": "markdown",
   "id": "905218fd",
   "metadata": {},
   "source": [
    "Set up the Reocrding and stim channels"
   ]
  },
  {
   "cell_type": "markdown",
   "id": "13d5d2cf",
   "metadata": {},
   "source": [
    "<font color=\"red\">Figure out channel mapping"
   ]
  },
  {
   "cell_type": "markdown",
   "id": "4400226c",
   "metadata": {},
   "source": [
    "# Processing Raw Feed Live"
   ]
  },
  {
   "cell_type": "markdown",
   "id": "930f1ab4",
   "metadata": {},
   "source": [
    "nump peak to peak function `ptp` - set it at ..."
   ]
  },
  {
   "cell_type": "markdown",
   "id": "5e32564b",
   "metadata": {},
   "source": [
    "[threading tutorial](https://ipywidgets.readthedocs.io/en/latest/examples/Widget%20Asynchronous.html)"
   ]
  },
  {
   "cell_type": "markdown",
   "id": "c4ab91f1",
   "metadata": {},
   "source": [
    "[killing a thread](https://stackoverflow.com/questions/42131668/python-thread-terminate-or-kill-in-the-best-way)"
   ]
  },
  {
   "cell_type": "markdown",
   "id": "33331213",
   "metadata": {},
   "source": [
    "<font color=\"green\"> Got threading to work!"
   ]
  },
  {
   "cell_type": "markdown",
   "id": "d07b35fe",
   "metadata": {},
   "source": [
    "## Thread Example 1"
   ]
  },
  {
   "cell_type": "markdown",
   "id": "c7e12151",
   "metadata": {},
   "source": [
    "Threading widget"
   ]
  },
  {
   "cell_type": "code",
   "execution_count": null,
   "id": "bfa74fb1",
   "metadata": {},
   "outputs": [],
   "source": [
    "import threading\n",
    "from IPython.display import display\n",
    "import ipywidgets as widgets\n",
    "import time"
   ]
  },
  {
   "cell_type": "code",
   "execution_count": null,
   "id": "1d1812d4",
   "metadata": {},
   "outputs": [],
   "source": [
    "progress = widgets.IntSlider(value=5, min=0, max=10)\n",
    "def work(progress):\n",
    "    while True:\n",
    "        time.sleep(.3)\n",
    "        if progress.value == 6:\n",
    "            print(\"howdy\")\n",
    "        if progress.value == 0:\n",
    "            print(\"Stopping thread\")\n",
    "            break\n",
    "            \n",
    "thread = threading.Thread(target=work, args=(progress,))\n",
    "display(progress)\n",
    "thread.start()"
   ]
  },
  {
   "cell_type": "code",
   "execution_count": null,
   "id": "1341ed3e",
   "metadata": {},
   "outputs": [],
   "source": [
    "thread.is_alive()"
   ]
  },
  {
   "cell_type": "markdown",
   "id": "ed1128cf",
   "metadata": {},
   "source": [
    "## Thread example 2"
   ]
  },
  {
   "cell_type": "markdown",
   "id": "bbb737d2",
   "metadata": {},
   "source": [
    "Threading button"
   ]
  },
  {
   "cell_type": "code",
   "execution_count": null,
   "id": "b3dda428",
   "metadata": {},
   "outputs": [],
   "source": [
    "counter = 0"
   ]
  },
  {
   "cell_type": "code",
   "execution_count": null,
   "id": "dfc6b353",
   "metadata": {},
   "outputs": [],
   "source": [
    "btn = widgets.Button(description=\"click!\")\n",
    "btn.value=0"
   ]
  },
  {
   "cell_type": "code",
   "execution_count": null,
   "id": "77a0e70a",
   "metadata": {
    "code_folding": []
   },
   "outputs": [],
   "source": [
    "def sayHello(b):\n",
    "    b.value+=1\n",
    "btn.on_click(sayHello)"
   ]
  },
  {
   "cell_type": "code",
   "execution_count": null,
   "id": "57b796cb",
   "metadata": {},
   "outputs": [],
   "source": [
    "btn.value"
   ]
  },
  {
   "cell_type": "code",
   "execution_count": null,
   "id": "1da29f8f",
   "metadata": {},
   "outputs": [],
   "source": [
    "def work(btn):\n",
    "    count = btn.value\n",
    "    while True:\n",
    "        time.sleep(.3)\n",
    "        if count < btn.value:\n",
    "            print(\"hello\")\n",
    "            count = btn.value\n",
    "\n",
    "thread = threading.Thread(target=work, args=(btn,))\n",
    "display(btn)\n",
    "thread.start()"
   ]
  },
  {
   "cell_type": "code",
   "execution_count": null,
   "id": "32650ad9",
   "metadata": {},
   "outputs": [],
   "source": []
  },
  {
   "cell_type": "code",
   "execution_count": null,
   "id": "df0ac814",
   "metadata": {},
   "outputs": [],
   "source": []
  },
  {
   "cell_type": "markdown",
   "id": "1f888d09",
   "metadata": {},
   "source": [
    "# Do Stim"
   ]
  },
  {
   "cell_type": "markdown",
   "id": "1b667168",
   "metadata": {},
   "source": [
    "This is a joke"
   ]
  },
  {
   "cell_type": "markdown",
   "id": "534d9b30",
   "metadata": {},
   "source": [
    "# End"
   ]
  },
  {
   "cell_type": "markdown",
   "id": "de291367",
   "metadata": {},
   "source": [
    "Save recording"
   ]
  }
 ],
 "metadata": {
  "hide_input": false,
  "kernelspec": {
   "display_name": "Python 3",
   "language": "python",
   "name": "python3"
  },
  "language_info": {
   "codemirror_mode": {
    "name": "ipython",
    "version": 3
   },
   "file_extension": ".py",
   "mimetype": "text/x-python",
   "name": "python",
   "nbconvert_exporter": "python",
   "pygments_lexer": "ipython3",
   "version": "3.9.5"
  },
  "toc": {
   "base_numbering": 1,
   "nav_menu": {},
   "number_sections": true,
   "sideBar": true,
   "skip_h1_title": false,
   "title_cell": "Table of Contents",
   "title_sidebar": "Contents",
   "toc_cell": false,
   "toc_position": {},
   "toc_section_display": true,
   "toc_window_display": false
  }
 },
 "nbformat": 4,
 "nbformat_minor": 5
}
